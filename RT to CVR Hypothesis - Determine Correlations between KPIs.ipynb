{
 "cells": [
  {
   "cell_type": "code",
   "execution_count": 1,
   "metadata": {},
   "outputs": [
    {
     "name": "stderr",
     "output_type": "stream",
     "text": [
      "C:\\Users\\bagabi\\AppData\\Local\\Continuum\\anaconda3\\lib\\site-packages\\statsmodels\\tools\\_testing.py:19: FutureWarning: pandas.util.testing is deprecated. Use the functions in the public API at pandas.testing instead.\n",
      "  import pandas.util.testing as tm\n"
     ]
    }
   ],
   "source": [
    "#Import libraries\n",
    "import os\n",
    "import calendar\n",
    "import numpy as np\n",
    "%matplotlib inline\n",
    "import pandas as pd\n",
    "from numpy import std\n",
    "from numpy import cov\n",
    "import seaborn as sns\n",
    "from numpy import mean\n",
    "from scipy import stats\n",
    "import researchpy as rp\n",
    "from scipy import stats\n",
    "import statsmodels.api as sm\n",
    "from matplotlib import pyplot\n",
    "from numpy.random import seed\n",
    "from numpy.random import randn\n",
    "import matplotlib.pyplot as plt\n",
    "from scipy.stats import pearsonr\n",
    "from sklearn.utils import shuffle\n",
    "from scipy.stats import spearmanr\n",
    "from datetime import datetime as dt\n",
    "from matplotlib.pyplot import xticks\n",
    "from scipy.stats import chi2_contingency\n",
    "from scipy.stats import norm, skew,kurtosis\n",
    "from sklearn.preprocessing import StandardScaler\n",
    "\n",
    "#Load data\n",
    "df = pd.read_excel(\"RT_CVR.xlsx\")"
   ]
  },
  {
   "cell_type": "markdown",
   "metadata": {},
   "source": [
    "# Exploratory Data Analysis"
   ]
  },
  {
   "cell_type": "code",
   "execution_count": 2,
   "metadata": {},
   "outputs": [
    {
     "data": {
      "text/html": [
       "<div>\n",
       "<style scoped>\n",
       "    .dataframe tbody tr th:only-of-type {\n",
       "        vertical-align: middle;\n",
       "    }\n",
       "\n",
       "    .dataframe tbody tr th {\n",
       "        vertical-align: top;\n",
       "    }\n",
       "\n",
       "    .dataframe thead th {\n",
       "        text-align: right;\n",
       "    }\n",
       "</style>\n",
       "<table border=\"1\" class=\"dataframe\">\n",
       "  <thead>\n",
       "    <tr style=\"text-align: right;\">\n",
       "      <th></th>\n",
       "      <th>Acctg_date</th>\n",
       "      <th>Coverage_code</th>\n",
       "      <th>Channel</th>\n",
       "      <th>Creates</th>\n",
       "      <th>Cancels</th>\n",
       "      <th>Completes</th>\n",
       "      <th>Response_time</th>\n",
       "      <th>Conversion_Rate</th>\n",
       "    </tr>\n",
       "  </thead>\n",
       "  <tbody>\n",
       "    <tr>\n",
       "      <th>0</th>\n",
       "      <td>2019-02-01</td>\n",
       "      <td>D2C</td>\n",
       "      <td>MSO</td>\n",
       "      <td>2013</td>\n",
       "      <td>791.0</td>\n",
       "      <td>1215.0</td>\n",
       "      <td>4.421026</td>\n",
       "      <td>0.603577</td>\n",
       "    </tr>\n",
       "    <tr>\n",
       "      <th>1</th>\n",
       "      <td>2019-02-01</td>\n",
       "      <td>HW Init</td>\n",
       "      <td>Online</td>\n",
       "      <td>3</td>\n",
       "      <td>NaN</td>\n",
       "      <td>3.0</td>\n",
       "      <td>3.666667</td>\n",
       "      <td>1.000000</td>\n",
       "    </tr>\n",
       "    <tr>\n",
       "      <th>2</th>\n",
       "      <td>2019-02-01</td>\n",
       "      <td>HW Init</td>\n",
       "      <td>MSO</td>\n",
       "      <td>343</td>\n",
       "      <td>59.0</td>\n",
       "      <td>280.0</td>\n",
       "      <td>3.843658</td>\n",
       "      <td>0.816327</td>\n",
       "    </tr>\n",
       "  </tbody>\n",
       "</table>\n",
       "</div>"
      ],
      "text/plain": [
       "  Acctg_date Coverage_code Channel  Creates  Cancels  Completes  \\\n",
       "0 2019-02-01           D2C     MSO     2013    791.0     1215.0   \n",
       "1 2019-02-01       HW Init  Online        3      NaN        3.0   \n",
       "2 2019-02-01       HW Init     MSO      343     59.0      280.0   \n",
       "\n",
       "   Response_time  Conversion_Rate  \n",
       "0       4.421026         0.603577  \n",
       "1       3.666667         1.000000  \n",
       "2       3.843658         0.816327  "
      ]
     },
     "execution_count": 2,
     "metadata": {},
     "output_type": "execute_result"
    }
   ],
   "source": [
    "#View few rows\n",
    "df.head(3)"
   ]
  },
  {
   "cell_type": "code",
   "execution_count": 3,
   "metadata": {},
   "outputs": [
    {
     "data": {
      "text/plain": [
       "Acctg_date           0\n",
       "Coverage_code        0\n",
       "Channel              0\n",
       "Creates              0\n",
       "Cancels            225\n",
       "Completes           10\n",
       "Response_time        0\n",
       "Conversion_Rate     10\n",
       "dtype: int64"
      ]
     },
     "execution_count": 3,
     "metadata": {},
     "output_type": "execute_result"
    }
   ],
   "source": [
    "#Check for missing values\n",
    "df.isnull().sum()"
   ]
  },
  {
   "cell_type": "code",
   "execution_count": 4,
   "metadata": {},
   "outputs": [
    {
     "data": {
      "text/plain": [
       "Acctg_date          0.00\n",
       "Coverage_code       0.00\n",
       "Channel             0.00\n",
       "Creates             0.00\n",
       "Cancels            14.80\n",
       "Completes           0.66\n",
       "Response_time       0.00\n",
       "Conversion_Rate     0.66\n",
       "dtype: float64"
      ]
     },
     "execution_count": 4,
     "metadata": {},
     "output_type": "execute_result"
    }
   ],
   "source": [
    "#Calculate percentage of missing values in each column\n",
    "round(100*(df.isnull().sum()/len(df.index)), 2)"
   ]
  },
  {
   "cell_type": "markdown",
   "metadata": {},
   "source": [
    "**Data Preprocessing**"
   ]
  },
  {
   "cell_type": "code",
   "execution_count": 6,
   "metadata": {},
   "outputs": [
    {
     "name": "stdout",
     "output_type": "stream",
     "text": [
      "  Coverage_code Channel   RT_Mean  RT_Min  RT_Max\n",
      "0           D2C     MSO  4.073980    2.10    9.19\n",
      "1           D2C  Online  3.237583    1.87   11.33\n",
      "2       HW Init     MSO  3.711841    1.50   13.50\n",
      "3       HW Init  Online  3.134593    0.00   16.33\n"
     ]
    }
   ],
   "source": [
    "df_fill = df.fillna(0)\n",
    "\n",
    "ds = df_fill.copy()\n",
    "ds['Year']=ds.Acctg_date.dt.year \n",
    "ds['Month']=ds.Acctg_date.dt.month\n",
    "ds['MonthName'] = ds['Month'].apply(lambda x: calendar.month_name[x])\n",
    "ds['WeekNumber']=ds.Acctg_date.dt.week\n",
    "\n",
    "ds['Response_time'] = round(ds['Response_time'],2)\n",
    "ds['Conversion_Rate'] = round(ds['Conversion_Rate'],2)\n",
    "grouped_multiple = ds.groupby(['Coverage_code', 'Channel']).agg({'Response_time': ['mean', 'min', 'max']})\n",
    "grouped_multiple.columns = ['RT_Mean', 'RT_Min', 'RT_Max']\n",
    "grouped_multiple = grouped_multiple.reset_index()\n",
    "print(grouped_multiple)"
   ]
  },
  {
   "cell_type": "code",
   "execution_count": 6,
   "metadata": {},
   "outputs": [
    {
     "data": {
      "text/plain": [
       "<matplotlib.axes._subplots.AxesSubplot at 0xb4c65f8>"
      ]
     },
     "execution_count": 6,
     "metadata": {},
     "output_type": "execute_result"
    },
    {
     "data": {
      "image/png": "[encoded data removed]",
      "text/plain": [
       "<Figure size 432x288 with 1 Axes>"
      ]
     },
     "metadata": {},
     "output_type": "display_data"
    }
   ],
   "source": [
    "sns.boxplot(y = 'Response_time', x = 'Coverage_code', data = ds)"
   ]
  },
  {
   "cell_type": "code",
   "execution_count": 7,
   "metadata": {},
   "outputs": [
    {
     "data": {
      "text/plain": [
       "<matplotlib.axes._subplots.AxesSubplot at 0xb609c88>"
      ]
     },
     "execution_count": 7,
     "metadata": {},
     "output_type": "execute_result"
    },
    {
     "data": {
      "image/png": "[encoded data removed]",
      "text/plain": [
       "<Figure size 432x288 with 1 Axes>"
      ]
     },
     "metadata": {},
     "output_type": "display_data"
    }
   ],
   "source": [
    "sns.boxplot(y = 'Response_time', x = 'Channel', data = ds)"
   ]
  },
  {
   "cell_type": "markdown",
   "metadata": {},
   "source": [
    "# Correlation Analysis"
   ]
  },
  {
   "cell_type": "code",
   "execution_count": 8,
   "metadata": {},
   "outputs": [
    {
     "name": "stderr",
     "output_type": "stream",
     "text": [
      "C:\\Users\\bagabi\\AppData\\Local\\Continuum\\anaconda3\\lib\\site-packages\\ipykernel_launcher.py:5: RuntimeWarning: Degrees of freedom <= 0 for slice\n",
      "  \"\"\"\n",
      "C:\\Users\\bagabi\\AppData\\Local\\Continuum\\anaconda3\\lib\\site-packages\\numpy\\lib\\function_base.py:2326: RuntimeWarning: divide by zero encountered in true_divide\n",
      "  c *= np.true_divide(1, fact)\n",
      "C:\\Users\\bagabi\\AppData\\Local\\Continuum\\anaconda3\\lib\\site-packages\\numpy\\lib\\function_base.py:2326: RuntimeWarning: invalid value encountered in multiply\n",
      "  c *= np.true_divide(1, fact)\n"
     ]
    },
    {
     "name": "stdout",
     "output_type": "stream",
     "text": [
      "data1: mean=3.55 stdv=1.46\n",
      "data2: mean=0.75 stdv=0.15\n",
      "Pearsons correlation: -0.16\n"
     ]
    },
    {
     "data": {
      "image/png": "[encoded data removed]",
      "text/plain": [
       "<Figure size 432x288 with 1 Axes>"
      ]
     },
     "metadata": {},
     "output_type": "display_data"
    }
   ],
   "source": [
    "data1 = ds[['Response_time']]\n",
    "data2 = ds[['Conversion_Rate']]\n",
    "\n",
    "corr, _ = pearsonr(data1, data2)\n",
    "covariance = cov(data1, data2)\n",
    "corr, _ = pearsonr(data1, data2)\n",
    "\n",
    "print('data1: mean=%.2f stdv=%.2f' % (mean(data1), std(data1)))\n",
    "print('data2: mean=%.2f stdv=%.2f' % (mean(data2), std(data2)))\n",
    "print('Pearsons correlation: %.2f' % corr)\n",
    "# plot\n",
    "pyplot.scatter(data1, data2)\n",
    "pyplot.show()"
   ]
  },
  {
   "cell_type": "code",
   "execution_count": 7,
   "metadata": {},
   "outputs": [
    {
     "data": {
      "text/html": [
       "<div>\n",
       "<style scoped>\n",
       "    .dataframe tbody tr th:only-of-type {\n",
       "        vertical-align: middle;\n",
       "    }\n",
       "\n",
       "    .dataframe tbody tr th {\n",
       "        vertical-align: top;\n",
       "    }\n",
       "\n",
       "    .dataframe thead th {\n",
       "        text-align: right;\n",
       "    }\n",
       "</style>\n",
       "<table border=\"1\" class=\"dataframe\">\n",
       "  <thead>\n",
       "    <tr style=\"text-align: right;\">\n",
       "      <th></th>\n",
       "      <th>Year</th>\n",
       "      <th>WeekNumber</th>\n",
       "      <th>Coverage_code</th>\n",
       "      <th>Channel</th>\n",
       "      <th>Creates</th>\n",
       "      <th>Cancels</th>\n",
       "      <th>Completes</th>\n",
       "      <th>Response_time</th>\n",
       "      <th>Conversion_Rate</th>\n",
       "    </tr>\n",
       "  </thead>\n",
       "  <tbody>\n",
       "    <tr>\n",
       "      <th>0</th>\n",
       "      <td>2019</td>\n",
       "      <td>1</td>\n",
       "      <td>D2C</td>\n",
       "      <td>MSO</td>\n",
       "      <td>2616</td>\n",
       "      <td>905.0</td>\n",
       "      <td>1708.0</td>\n",
       "      <td>7.32</td>\n",
       "      <td>0.665000</td>\n",
       "    </tr>\n",
       "    <tr>\n",
       "      <th>1</th>\n",
       "      <td>2019</td>\n",
       "      <td>1</td>\n",
       "      <td>D2C</td>\n",
       "      <td>Online</td>\n",
       "      <td>1328</td>\n",
       "      <td>397.0</td>\n",
       "      <td>930.0</td>\n",
       "      <td>6.77</td>\n",
       "      <td>0.695000</td>\n",
       "    </tr>\n",
       "    <tr>\n",
       "      <th>2</th>\n",
       "      <td>2019</td>\n",
       "      <td>1</td>\n",
       "      <td>HW Init</td>\n",
       "      <td>MSO</td>\n",
       "      <td>65</td>\n",
       "      <td>9.0</td>\n",
       "      <td>56.0</td>\n",
       "      <td>7.99</td>\n",
       "      <td>0.850000</td>\n",
       "    </tr>\n",
       "    <tr>\n",
       "      <th>3</th>\n",
       "      <td>2019</td>\n",
       "      <td>1</td>\n",
       "      <td>HW Init</td>\n",
       "      <td>Online</td>\n",
       "      <td>6</td>\n",
       "      <td>1.0</td>\n",
       "      <td>5.0</td>\n",
       "      <td>6.25</td>\n",
       "      <td>0.750000</td>\n",
       "    </tr>\n",
       "    <tr>\n",
       "      <th>4</th>\n",
       "      <td>2019</td>\n",
       "      <td>5</td>\n",
       "      <td>D2C</td>\n",
       "      <td>MSO</td>\n",
       "      <td>4381</td>\n",
       "      <td>1687.0</td>\n",
       "      <td>2675.0</td>\n",
       "      <td>12.66</td>\n",
       "      <td>0.613333</td>\n",
       "    </tr>\n",
       "  </tbody>\n",
       "</table>\n",
       "</div>"
      ],
      "text/plain": [
       "   Year  WeekNumber Coverage_code Channel  Creates  Cancels  Completes  \\\n",
       "0  2019           1           D2C     MSO     2616    905.0     1708.0   \n",
       "1  2019           1           D2C  Online     1328    397.0      930.0   \n",
       "2  2019           1       HW Init     MSO       65      9.0       56.0   \n",
       "3  2019           1       HW Init  Online        6      1.0        5.0   \n",
       "4  2019           5           D2C     MSO     4381   1687.0     2675.0   \n",
       "\n",
       "   Response_time  Conversion_Rate  \n",
       "0           7.32         0.665000  \n",
       "1           6.77         0.695000  \n",
       "2           7.99         0.850000  \n",
       "3           6.25         0.750000  \n",
       "4          12.66         0.613333  "
      ]
     },
     "execution_count": 7,
     "metadata": {},
     "output_type": "execute_result"
    }
   ],
   "source": [
    "df_grp = ds.copy()\n",
    "group = df_grp.groupby(['Year','WeekNumber','Coverage_code','Channel'])\n",
    "grp = group.aggregate({'Creates':'sum'})\n",
    "grp['Cancels'] = df_grp.groupby(['Year','WeekNumber','Coverage_code','Channel']).Cancels.sum()\n",
    "grp['Completes'] = df_grp.groupby(['Year','WeekNumber','Coverage_code','Channel']).Completes.sum()\n",
    "grp['Response_time'] = df_grp.groupby(['Year','WeekNumber','Coverage_code','Channel']).Response_time.sum()\n",
    "grp['Conversion_Rate'] = df_grp.groupby(['Year','WeekNumber','Coverage_code','Channel']).Conversion_Rate.mean()\n",
    "grp.reset_index(drop=False,inplace=True)\n",
    "grp.head()"
   ]
  },
  {
   "cell_type": "code",
   "execution_count": 8,
   "metadata": {},
   "outputs": [
    {
     "name": "stdout",
     "output_type": "stream",
     "text": [
      "  Coverage_code Channel    RT_Mean  RT_Min  RT_Max\n",
      "0           D2C     MSO  27.534483    7.32   44.40\n",
      "1           D2C  Online  21.937414    6.77   36.04\n",
      "2       HW Init     MSO  25.022931    7.99   43.49\n",
      "3       HW Init  Online  18.591379    1.00   40.17\n",
      "  Coverage_code Channel  CVR_Mean   CVR_Min   CVR_Max\n",
      "0           D2C     MSO  0.636925  0.543333  0.701429\n",
      "1           D2C  Online  0.672710  0.564286  0.722857\n",
      "2       HW Init     MSO  0.841716  0.740000  0.941429\n",
      "3       HW Init  Online  0.847233  0.625000  1.000000\n"
     ]
    },
    {
     "data": {
      "text/plain": [
       "(None, None)"
      ]
     },
     "execution_count": 8,
     "metadata": {},
     "output_type": "execute_result"
    }
   ],
   "source": [
    "rt_mean_max = grp.groupby(['Coverage_code', 'Channel']).agg({'Response_time': ['mean', 'min', 'max']})\n",
    "rt_mean_max.columns = ['RT_Mean', 'RT_Min', 'RT_Max']\n",
    "rt_mean_max = rt_mean_max.reset_index()\n",
    "\n",
    "cvr_mean_max = grp.groupby(['Coverage_code', 'Channel']).agg({'Conversion_Rate': ['mean', 'min', 'max']})\n",
    "cvr_mean_max.columns = ['CVR_Mean', 'CVR_Min', 'CVR_Max']\n",
    "cvr_mean_max = cvr_mean_max.reset_index()\n",
    "print(rt_mean_max),print(cvr_mean_max)"
   ]
  },
  {
   "cell_type": "code",
   "execution_count": 9,
   "metadata": {},
   "outputs": [],
   "source": [
    "rt_mean_max.to_excel('rt_mean_max.xlsx', index=False)"
   ]
  },
  {
   "cell_type": "code",
   "execution_count": 10,
   "metadata": {},
   "outputs": [],
   "source": [
    "cvr_mean_max.to_excel('cvr_mean_max.xlsx', index=False)"
   ]
  },
  {
   "cell_type": "code",
   "execution_count": 11,
   "metadata": {},
   "outputs": [
    {
     "name": "stderr",
     "output_type": "stream",
     "text": [
      "C:\\Users\\bagabi\\AppData\\Local\\Continuum\\anaconda3\\lib\\site-packages\\scipy\\stats\\stats.py:1713: FutureWarning: Using a non-tuple sequence for multidimensional indexing is deprecated; use `arr[tuple(seq)]` instead of `arr[seq]`. In the future this will be interpreted as an array index, `arr[np.array(seq)]`, which will result either in an error or a different result.\n",
      "  return np.add.reduce(sorted[indexer] * weights, axis=axis) / sumval\n"
     ]
    },
    {
     "data": {
      "image/png": "[encoded data removed]",
      "text/plain": [
       "<Figure size 432x288 with 1 Axes>"
      ]
     },
     "metadata": {},
     "output_type": "display_data"
    }
   ],
   "source": [
    "ax = sns.regplot(x=\"Response_time\", y=\"Conversion_Rate\", data=grp)"
   ]
  },
  {
   "cell_type": "code",
   "execution_count": 12,
   "metadata": {},
   "outputs": [
    {
     "name": "stderr",
     "output_type": "stream",
     "text": [
      "C:\\Users\\bagabi\\AppData\\Local\\Continuum\\anaconda3\\lib\\site-packages\\ipykernel_launcher.py:5: RuntimeWarning: Degrees of freedom <= 0 for slice\n",
      "  \"\"\"\n",
      "C:\\Users\\bagabi\\AppData\\Local\\Continuum\\anaconda3\\lib\\site-packages\\numpy\\lib\\function_base.py:2326: RuntimeWarning: divide by zero encountered in true_divide\n",
      "  c *= np.true_divide(1, fact)\n",
      "C:\\Users\\bagabi\\AppData\\Local\\Continuum\\anaconda3\\lib\\site-packages\\numpy\\lib\\function_base.py:2326: RuntimeWarning: invalid value encountered in multiply\n",
      "  c *= np.true_divide(1, fact)\n"
     ]
    },
    {
     "name": "stdout",
     "output_type": "stream",
     "text": [
      "RT: mean=23.27 stdv=7.84\n",
      "CVR: mean=0.75 stdv=0.11\n",
      "Pearsons correlation: -0.35\n"
     ]
    },
    {
     "data": {
      "image/png": "[encoded data removed]",
      "text/plain": [
       "<Figure size 432x288 with 1 Axes>"
      ]
     },
     "metadata": {},
     "output_type": "display_data"
    }
   ],
   "source": [
    "RT = grp[['Response_time']]\n",
    "CVR = grp[['Conversion_Rate']]\n",
    "\n",
    "corr, _ = pearsonr(RT, CVR)\n",
    "covariance = cov(RT, CVR)\n",
    "corr, _ = pearsonr(RT, CVR)\n",
    "\n",
    "print('RT: mean=%.2f stdv=%.2f' % (mean(RT), std(RT)))\n",
    "print('CVR: mean=%.2f stdv=%.2f' % (mean(CVR), std(CVR)))\n",
    "print('Pearsons correlation: %.2f' % corr)\n",
    "# plot\n",
    "pyplot.scatter(RT, CVR)\n",
    "pyplot.show()"
   ]
  },
  {
   "cell_type": "code",
   "execution_count": 13,
   "metadata": {},
   "outputs": [
    {
     "data": {
      "text/plain": [
       "<matplotlib.axes._subplots.AxesSubplot at 0xbe32898>"
      ]
     },
     "execution_count": 13,
     "metadata": {},
     "output_type": "execute_result"
    },
    {
     "data": {
      "image/png": "[encoded data removed]",
      "text/plain": [
       "<Figure size 1080x720 with 2 Axes>"
      ]
     },
     "metadata": {},
     "output_type": "display_data"
    }
   ],
   "source": [
    "df_corr = grp[['Conversion_Rate', 'Cancels', 'Response_time']]\n",
    "plt.figure(figsize=(15, 10))\n",
    "sns.heatmap(df_corr.corr(), annot=True)"
   ]
  },
  {
   "cell_type": "markdown",
   "metadata": {},
   "source": [
    "# Correlation Result - Overall (MSO & Online) \n",
    "Response Time (RT) and Coversion Rate has a weak (negative) linear relationship (-0.35)."
   ]
  },
  {
   "cell_type": "code",
   "execution_count": 14,
   "metadata": {},
   "outputs": [],
   "source": [
    "d2c_mso = (grp[grp[\"Coverage_code\"].isin([\"D2C\"]) & grp[\"Channel\"].isin([\"MSO\"])])\n",
    "hw_mso = (grp[grp[\"Coverage_code\"].isin([\"HW Init\"]) & grp[\"Channel\"].isin([\"MSO\"])])\n",
    "d2c_online = (grp[grp[\"Coverage_code\"].isin([\"D2C\"]) & grp[\"Channel\"].isin([\"Online\"])])\n",
    "hw_online = (grp[grp[\"Coverage_code\"].isin([\"HW Init\"]) & grp[\"Channel\"].isin([\"Online\"])])"
   ]
  },
  {
   "cell_type": "code",
   "execution_count": 17,
   "metadata": {},
   "outputs": [
    {
     "data": {
      "text/html": [
       "<div>\n",
       "<style scoped>\n",
       "    .dataframe tbody tr th:only-of-type {\n",
       "        vertical-align: middle;\n",
       "    }\n",
       "\n",
       "    .dataframe tbody tr th {\n",
       "        vertical-align: top;\n",
       "    }\n",
       "\n",
       "    .dataframe thead th {\n",
       "        text-align: right;\n",
       "    }\n",
       "</style>\n",
       "<table border=\"1\" class=\"dataframe\">\n",
       "  <thead>\n",
       "    <tr style=\"text-align: right;\">\n",
       "      <th></th>\n",
       "      <th>Conversion_Rate</th>\n",
       "      <th>Cancels</th>\n",
       "      <th>Response_time</th>\n",
       "    </tr>\n",
       "  </thead>\n",
       "  <tbody>\n",
       "    <tr>\n",
       "      <th>Conversion_Rate</th>\n",
       "      <td>1.000000</td>\n",
       "      <td>-0.580024</td>\n",
       "      <td>-0.617780</td>\n",
       "    </tr>\n",
       "    <tr>\n",
       "      <th>Cancels</th>\n",
       "      <td>-0.580024</td>\n",
       "      <td>1.000000</td>\n",
       "      <td>0.328706</td>\n",
       "    </tr>\n",
       "    <tr>\n",
       "      <th>Response_time</th>\n",
       "      <td>-0.617780</td>\n",
       "      <td>0.328706</td>\n",
       "      <td>1.000000</td>\n",
       "    </tr>\n",
       "  </tbody>\n",
       "</table>\n",
       "</div>"
      ],
      "text/plain": [
       "                 Conversion_Rate   Cancels  Response_time\n",
       "Conversion_Rate         1.000000 -0.580024      -0.617780\n",
       "Cancels                -0.580024  1.000000       0.328706\n",
       "Response_time          -0.617780  0.328706       1.000000"
      ]
     },
     "execution_count": 17,
     "metadata": {},
     "output_type": "execute_result"
    }
   ],
   "source": [
    "d2c_mso[['Conversion_Rate', 'Cancels', 'Response_time']].corr()"
   ]
  },
  {
   "cell_type": "code",
   "execution_count": 18,
   "metadata": {},
   "outputs": [
    {
     "data": {
      "text/html": [
       "<div>\n",
       "<style scoped>\n",
       "    .dataframe tbody tr th:only-of-type {\n",
       "        vertical-align: middle;\n",
       "    }\n",
       "\n",
       "    .dataframe tbody tr th {\n",
       "        vertical-align: top;\n",
       "    }\n",
       "\n",
       "    .dataframe thead th {\n",
       "        text-align: right;\n",
       "    }\n",
       "</style>\n",
       "<table border=\"1\" class=\"dataframe\">\n",
       "  <thead>\n",
       "    <tr style=\"text-align: right;\">\n",
       "      <th></th>\n",
       "      <th>Conversion_Rate</th>\n",
       "      <th>Cancels</th>\n",
       "      <th>Response_time</th>\n",
       "    </tr>\n",
       "  </thead>\n",
       "  <tbody>\n",
       "    <tr>\n",
       "      <th>Conversion_Rate</th>\n",
       "      <td>1.000000</td>\n",
       "      <td>-0.211011</td>\n",
       "      <td>-0.222317</td>\n",
       "    </tr>\n",
       "    <tr>\n",
       "      <th>Cancels</th>\n",
       "      <td>-0.211011</td>\n",
       "      <td>1.000000</td>\n",
       "      <td>0.222033</td>\n",
       "    </tr>\n",
       "    <tr>\n",
       "      <th>Response_time</th>\n",
       "      <td>-0.222317</td>\n",
       "      <td>0.222033</td>\n",
       "      <td>1.000000</td>\n",
       "    </tr>\n",
       "  </tbody>\n",
       "</table>\n",
       "</div>"
      ],
      "text/plain": [
       "                 Conversion_Rate   Cancels  Response_time\n",
       "Conversion_Rate         1.000000 -0.211011      -0.222317\n",
       "Cancels                -0.211011  1.000000       0.222033\n",
       "Response_time          -0.222317  0.222033       1.000000"
      ]
     },
     "execution_count": 18,
     "metadata": {},
     "output_type": "execute_result"
    }
   ],
   "source": [
    "hw_mso[['Conversion_Rate', 'Cancels', 'Response_time']].corr()"
   ]
  },
  {
   "cell_type": "code",
   "execution_count": 19,
   "metadata": {},
   "outputs": [
    {
     "data": {
      "text/html": [
       "<div>\n",
       "<style scoped>\n",
       "    .dataframe tbody tr th:only-of-type {\n",
       "        vertical-align: middle;\n",
       "    }\n",
       "\n",
       "    .dataframe tbody tr th {\n",
       "        vertical-align: top;\n",
       "    }\n",
       "\n",
       "    .dataframe thead th {\n",
       "        text-align: right;\n",
       "    }\n",
       "</style>\n",
       "<table border=\"1\" class=\"dataframe\">\n",
       "  <thead>\n",
       "    <tr style=\"text-align: right;\">\n",
       "      <th></th>\n",
       "      <th>Conversion_Rate</th>\n",
       "      <th>Cancels</th>\n",
       "      <th>Response_time</th>\n",
       "    </tr>\n",
       "  </thead>\n",
       "  <tbody>\n",
       "    <tr>\n",
       "      <th>Conversion_Rate</th>\n",
       "      <td>1.000000</td>\n",
       "      <td>-0.775498</td>\n",
       "      <td>-0.642225</td>\n",
       "    </tr>\n",
       "    <tr>\n",
       "      <th>Cancels</th>\n",
       "      <td>-0.775498</td>\n",
       "      <td>1.000000</td>\n",
       "      <td>0.660502</td>\n",
       "    </tr>\n",
       "    <tr>\n",
       "      <th>Response_time</th>\n",
       "      <td>-0.642225</td>\n",
       "      <td>0.660502</td>\n",
       "      <td>1.000000</td>\n",
       "    </tr>\n",
       "  </tbody>\n",
       "</table>\n",
       "</div>"
      ],
      "text/plain": [
       "                 Conversion_Rate   Cancels  Response_time\n",
       "Conversion_Rate         1.000000 -0.775498      -0.642225\n",
       "Cancels                -0.775498  1.000000       0.660502\n",
       "Response_time          -0.642225  0.660502       1.000000"
      ]
     },
     "execution_count": 19,
     "metadata": {},
     "output_type": "execute_result"
    }
   ],
   "source": [
    "d2c_online[['Conversion_Rate', 'Cancels', 'Response_time']].corr()"
   ]
  },
  {
   "cell_type": "code",
   "execution_count": 20,
   "metadata": {},
   "outputs": [
    {
     "data": {
      "text/html": [
       "<div>\n",
       "<style scoped>\n",
       "    .dataframe tbody tr th:only-of-type {\n",
       "        vertical-align: middle;\n",
       "    }\n",
       "\n",
       "    .dataframe tbody tr th {\n",
       "        vertical-align: top;\n",
       "    }\n",
       "\n",
       "    .dataframe thead th {\n",
       "        text-align: right;\n",
       "    }\n",
       "</style>\n",
       "<table border=\"1\" class=\"dataframe\">\n",
       "  <thead>\n",
       "    <tr style=\"text-align: right;\">\n",
       "      <th></th>\n",
       "      <th>Conversion_Rate</th>\n",
       "      <th>Cancels</th>\n",
       "      <th>Response_time</th>\n",
       "    </tr>\n",
       "  </thead>\n",
       "  <tbody>\n",
       "    <tr>\n",
       "      <th>Conversion_Rate</th>\n",
       "      <td>1.000000</td>\n",
       "      <td>-0.634363</td>\n",
       "      <td>-0.235550</td>\n",
       "    </tr>\n",
       "    <tr>\n",
       "      <th>Cancels</th>\n",
       "      <td>-0.634363</td>\n",
       "      <td>1.000000</td>\n",
       "      <td>0.612563</td>\n",
       "    </tr>\n",
       "    <tr>\n",
       "      <th>Response_time</th>\n",
       "      <td>-0.235550</td>\n",
       "      <td>0.612563</td>\n",
       "      <td>1.000000</td>\n",
       "    </tr>\n",
       "  </tbody>\n",
       "</table>\n",
       "</div>"
      ],
      "text/plain": [
       "                 Conversion_Rate   Cancels  Response_time\n",
       "Conversion_Rate         1.000000 -0.634363      -0.235550\n",
       "Cancels                -0.634363  1.000000       0.612563\n",
       "Response_time          -0.235550  0.612563       1.000000"
      ]
     },
     "execution_count": 20,
     "metadata": {},
     "output_type": "execute_result"
    }
   ],
   "source": [
    "hw_online[['Conversion_Rate', 'Cancels', 'Response_time']].corr()"
   ]
  },
  {
   "cell_type": "code",
   "execution_count": 21,
   "metadata": {},
   "outputs": [
    {
     "name": "stderr",
     "output_type": "stream",
     "text": [
      "C:\\Users\\bagabi\\AppData\\Local\\Continuum\\anaconda3\\lib\\site-packages\\ipykernel_launcher.py:5: RuntimeWarning: Degrees of freedom <= 0 for slice\n",
      "  \"\"\"\n",
      "C:\\Users\\bagabi\\AppData\\Local\\Continuum\\anaconda3\\lib\\site-packages\\numpy\\lib\\function_base.py:2326: RuntimeWarning: divide by zero encountered in true_divide\n",
      "  c *= np.true_divide(1, fact)\n",
      "C:\\Users\\bagabi\\AppData\\Local\\Continuum\\anaconda3\\lib\\site-packages\\numpy\\lib\\function_base.py:2326: RuntimeWarning: invalid value encountered in multiply\n",
      "  c *= np.true_divide(1, fact)\n"
     ]
    },
    {
     "name": "stdout",
     "output_type": "stream",
     "text": [
      "RT: mean=27.53 stdv=7.19\n",
      "CVR: mean=0.64 stdv=0.04\n",
      "Pearsons correlation: -0.62\n"
     ]
    },
    {
     "data": {
      "image/png": "[encoded data removed]",
      "text/plain": [
       "<Figure size 432x288 with 1 Axes>"
      ]
     },
     "metadata": {},
     "output_type": "display_data"
    }
   ],
   "source": [
    "RT = d2c_mso[['Response_time']]\n",
    "CVR = d2c_mso[['Conversion_Rate']]\n",
    "\n",
    "corr, _ = pearsonr(RT, CVR)\n",
    "covariance = cov(RT, CVR)\n",
    "corr, _ = pearsonr(RT, CVR)\n",
    "\n",
    "print('RT: mean=%.2f stdv=%.2f' % (mean(RT), std(RT)))\n",
    "print('CVR: mean=%.2f stdv=%.2f' % (mean(CVR), std(CVR)))\n",
    "print('Pearsons correlation: %.2f' % corr)\n",
    "# plot\n",
    "\n",
    "plt.xlabel(\"Scatter Plot of RT on Conversion Rate (D2C_MSO)\")\n",
    "plt.ylabel(\"Conversion Rate\")\n",
    "\n",
    "pyplot.scatter(RT, CVR)\n",
    "pyplot.show()"
   ]
  },
  {
   "cell_type": "code",
   "execution_count": 33,
   "metadata": {},
   "outputs": [
    {
     "name": "stdout",
     "output_type": "stream",
     "text": [
      "RT: mean=25.02 stdv=7.08\n",
      "CVR: mean=0.84 stdv=0.03\n",
      "Pearsons correlation: -0.22\n"
     ]
    },
    {
     "name": "stderr",
     "output_type": "stream",
     "text": [
      "C:\\Users\\bagabi\\AppData\\Local\\Continuum\\anaconda3\\lib\\site-packages\\ipykernel_launcher.py:5: RuntimeWarning: Degrees of freedom <= 0 for slice\n",
      "  \"\"\"\n",
      "C:\\Users\\bagabi\\AppData\\Local\\Continuum\\anaconda3\\lib\\site-packages\\numpy\\lib\\function_base.py:2326: RuntimeWarning: divide by zero encountered in true_divide\n",
      "  c *= np.true_divide(1, fact)\n",
      "C:\\Users\\bagabi\\AppData\\Local\\Continuum\\anaconda3\\lib\\site-packages\\numpy\\lib\\function_base.py:2326: RuntimeWarning: invalid value encountered in multiply\n",
      "  c *= np.true_divide(1, fact)\n"
     ]
    },
    {
     "data": {
      "image/png": "[encoded data removed]",
      "text/plain": [
       "<Figure size 432x288 with 1 Axes>"
      ]
     },
     "metadata": {},
     "output_type": "display_data"
    }
   ],
   "source": [
    "RT = hw_mso[['Response_time']]\n",
    "CVR = hw_mso[['Conversion_Rate']]\n",
    "\n",
    "corr, _ = pearsonr(RT, CVR)\n",
    "covariance = cov(RT, CVR)\n",
    "corr, _ = pearsonr(RT, CVR)\n",
    "\n",
    "print('RT: mean=%.2f stdv=%.2f' % (mean(RT), std(RT)))\n",
    "print('CVR: mean=%.2f stdv=%.2f' % (mean(CVR), std(CVR)))\n",
    "print('Pearsons correlation: %.2f' % corr)\n",
    "# plot\n",
    "\n",
    "plt.xlabel(\"Scatter Plot of RT on Conversion Rate (HW_MSO)\")\n",
    "plt.ylabel(\"Conversion Rate\")\n",
    "\n",
    "pyplot.scatter(RT, CVR)\n",
    "pyplot.show()"
   ]
  },
  {
   "cell_type": "code",
   "execution_count": 22,
   "metadata": {},
   "outputs": [
    {
     "name": "stderr",
     "output_type": "stream",
     "text": [
      "C:\\Users\\bagabi\\AppData\\Local\\Continuum\\anaconda3\\lib\\site-packages\\scipy\\stats\\stats.py:1713: FutureWarning: Using a non-tuple sequence for multidimensional indexing is deprecated; use `arr[tuple(seq)]` instead of `arr[seq]`. In the future this will be interpreted as an array index, `arr[np.array(seq)]`, which will result either in an error or a different result.\n",
      "  return np.add.reduce(sorted[indexer] * weights, axis=axis) / sumval\n"
     ]
    },
    {
     "data": {
      "image/png": "[encoded data removed]",
      "text/plain": [
       "<Figure size 432x288 with 1 Axes>"
      ]
     },
     "metadata": {},
     "output_type": "display_data"
    }
   ],
   "source": [
    "ax = sns.regplot(x=\"Response_time\", y=\"Conversion_Rate\", data=d2c_mso)"
   ]
  },
  {
   "cell_type": "code",
   "execution_count": 23,
   "metadata": {},
   "outputs": [
    {
     "data": {
      "text/plain": [
       "<matplotlib.axes._subplots.AxesSubplot at 0xc401ac8>"
      ]
     },
     "execution_count": 23,
     "metadata": {},
     "output_type": "execute_result"
    },
    {
     "data": {
      "image/png": "[encoded data removed]",
      "text/plain": [
       "<Figure size 1080x720 with 2 Axes>"
      ]
     },
     "metadata": {},
     "output_type": "display_data"
    }
   ],
   "source": [
    "df_corr = d2c_mso[['Conversion_Rate', 'Response_time']]\n",
    "plt.figure(figsize=(15, 10))\n",
    "sns.heatmap(df_corr.corr(), annot=True)"
   ]
  },
  {
   "cell_type": "code",
   "execution_count": 31,
   "metadata": {},
   "outputs": [
    {
     "data": {
      "text/plain": [
       "<matplotlib.axes._subplots.AxesSubplot at 0xbe6de10>"
      ]
     },
     "execution_count": 31,
     "metadata": {},
     "output_type": "execute_result"
    },
    {
     "data": {
      "image/png": "[encoded data removed]",
      "text/plain": [
       "<Figure size 432x288 with 1 Axes>"
      ]
     },
     "metadata": {},
     "output_type": "display_data"
    }
   ],
   "source": [
    "mso = grp[grp[\"Channel\"].isin([\"MSO\"])]\n",
    "sns.boxplot(y = 'Conversion_Rate', x = 'Coverage_code', data = mso)"
   ]
  },
  {
   "cell_type": "code",
   "execution_count": 25,
   "metadata": {},
   "outputs": [
    {
     "data": {
      "text/plain": [
       "<matplotlib.axes._subplots.AxesSubplot at 0xc512898>"
      ]
     },
     "execution_count": 25,
     "metadata": {},
     "output_type": "execute_result"
    },
    {
     "data": {
      "image/png": "[encoded data removed]",
      "text/plain": [
       "<Figure size 432x288 with 1 Axes>"
      ]
     },
     "metadata": {},
     "output_type": "display_data"
    }
   ],
   "source": [
    "online = grp[grp[\"Channel\"].isin([\"Online\"])]\n",
    "sns.boxplot(y = 'Conversion_Rate', x = 'Coverage_code', data = online)"
   ]
  },
  {
   "cell_type": "code",
   "execution_count": 26,
   "metadata": {},
   "outputs": [
    {
     "data": {
      "text/plain": [
       "<matplotlib.axes._subplots.AxesSubplot at 0xc57b630>"
      ]
     },
     "execution_count": 26,
     "metadata": {},
     "output_type": "execute_result"
    },
    {
     "data": {
      "image/png": "[encoded data removed]",
      "text/plain": [
       "<Figure size 432x288 with 1 Axes>"
      ]
     },
     "metadata": {},
     "output_type": "display_data"
    }
   ],
   "source": [
    "sns.boxplot(y = 'Response_time', x = 'Coverage_code', data = mso)"
   ]
  },
  {
   "cell_type": "code",
   "execution_count": 45,
   "metadata": {},
   "outputs": [
    {
     "data": {
      "text/plain": [
       "<matplotlib.axes._subplots.AxesSubplot at 0xcaffdd8>"
      ]
     },
     "execution_count": 45,
     "metadata": {},
     "output_type": "execute_result"
    },
    {
     "data": {
      "image/png": "[encoded data removed]",
      "text/plain": [
       "<Figure size 432x288 with 1 Axes>"
      ]
     },
     "metadata": {},
     "output_type": "display_data"
    }
   ],
   "source": [
    "sns.boxplot(y = 'Response_time', x = 'Coverage_code', data = online)"
   ]
  },
  {
   "cell_type": "code",
   "execution_count": 27,
   "metadata": {},
   "outputs": [
    {
     "data": {
      "image/png": "[encoded data removed]",
      "text/plain": [
       "<Figure size 1152x576 with 1 Axes>"
      ]
     },
     "metadata": {},
     "output_type": "display_data"
    }
   ],
   "source": [
    "plt.figure(figsize=(16, 8))\n",
    "plt.scatter(\n",
    "    d2c_mso['Response_time'],\n",
    "    d2c_mso['Conversion_Rate'],\n",
    "    c='black'\n",
    ")\n",
    "plt.xlabel(\"Impact of RT on Conversion Rate\")\n",
    "plt.ylabel(\"Conversion Rate\")\n",
    "plt.show()"
   ]
  },
  {
   "cell_type": "markdown",
   "metadata": {},
   "source": [
    "# Build Models"
   ]
  },
  {
   "cell_type": "code",
   "execution_count": 50,
   "metadata": {},
   "outputs": [
    {
     "data": {
      "text/html": [
       "<div>\n",
       "<style scoped>\n",
       "    .dataframe tbody tr th:only-of-type {\n",
       "        vertical-align: middle;\n",
       "    }\n",
       "\n",
       "    .dataframe tbody tr th {\n",
       "        vertical-align: top;\n",
       "    }\n",
       "\n",
       "    .dataframe thead th {\n",
       "        text-align: right;\n",
       "    }\n",
       "</style>\n",
       "<table border=\"1\" class=\"dataframe\">\n",
       "  <thead>\n",
       "    <tr style=\"text-align: right;\">\n",
       "      <th></th>\n",
       "      <th>Year</th>\n",
       "      <th>WeekNumber</th>\n",
       "      <th>Coverage_code</th>\n",
       "      <th>Channel</th>\n",
       "      <th>Creates</th>\n",
       "      <th>Cancels</th>\n",
       "      <th>Completes</th>\n",
       "      <th>Response_time</th>\n",
       "      <th>Conversion_Rate</th>\n",
       "    </tr>\n",
       "  </thead>\n",
       "  <tbody>\n",
       "    <tr>\n",
       "      <th>0</th>\n",
       "      <td>2019</td>\n",
       "      <td>1</td>\n",
       "      <td>D2C</td>\n",
       "      <td>MSO</td>\n",
       "      <td>2616</td>\n",
       "      <td>905.0</td>\n",
       "      <td>1708.0</td>\n",
       "      <td>7.32</td>\n",
       "      <td>0.665000</td>\n",
       "    </tr>\n",
       "    <tr>\n",
       "      <th>4</th>\n",
       "      <td>2019</td>\n",
       "      <td>5</td>\n",
       "      <td>D2C</td>\n",
       "      <td>MSO</td>\n",
       "      <td>4381</td>\n",
       "      <td>1687.0</td>\n",
       "      <td>2675.0</td>\n",
       "      <td>12.66</td>\n",
       "      <td>0.613333</td>\n",
       "    </tr>\n",
       "    <tr>\n",
       "      <th>8</th>\n",
       "      <td>2019</td>\n",
       "      <td>6</td>\n",
       "      <td>D2C</td>\n",
       "      <td>MSO</td>\n",
       "      <td>13136</td>\n",
       "      <td>4638.0</td>\n",
       "      <td>8447.0</td>\n",
       "      <td>27.19</td>\n",
       "      <td>0.637143</td>\n",
       "    </tr>\n",
       "    <tr>\n",
       "      <th>12</th>\n",
       "      <td>2019</td>\n",
       "      <td>7</td>\n",
       "      <td>D2C</td>\n",
       "      <td>MSO</td>\n",
       "      <td>12592</td>\n",
       "      <td>4353.0</td>\n",
       "      <td>8200.0</td>\n",
       "      <td>26.93</td>\n",
       "      <td>0.644286</td>\n",
       "    </tr>\n",
       "    <tr>\n",
       "      <th>16</th>\n",
       "      <td>2019</td>\n",
       "      <td>8</td>\n",
       "      <td>D2C</td>\n",
       "      <td>MSO</td>\n",
       "      <td>11998</td>\n",
       "      <td>4164.0</td>\n",
       "      <td>7811.0</td>\n",
       "      <td>25.12</td>\n",
       "      <td>0.647143</td>\n",
       "    </tr>\n",
       "  </tbody>\n",
       "</table>\n",
       "</div>"
      ],
      "text/plain": [
       "    Year  WeekNumber Coverage_code Channel  Creates  Cancels  Completes  \\\n",
       "0   2019           1           D2C     MSO     2616    905.0     1708.0   \n",
       "4   2019           5           D2C     MSO     4381   1687.0     2675.0   \n",
       "8   2019           6           D2C     MSO    13136   4638.0     8447.0   \n",
       "12  2019           7           D2C     MSO    12592   4353.0     8200.0   \n",
       "16  2019           8           D2C     MSO    11998   4164.0     7811.0   \n",
       "\n",
       "    Response_time  Conversion_Rate  \n",
       "0            7.32         0.665000  \n",
       "4           12.66         0.613333  \n",
       "8           27.19         0.637143  \n",
       "12          26.93         0.644286  \n",
       "16          25.12         0.647143  "
      ]
     },
     "execution_count": 50,
     "metadata": {},
     "output_type": "execute_result"
    }
   ],
   "source": [
    "d2c_mso.head()"
   ]
  },
  {
   "cell_type": "code",
   "execution_count": 66,
   "metadata": {},
   "outputs": [
    {
     "name": "stdout",
     "output_type": "stream",
     "text": [
      "Conversion_Rate ~ Response_time + Cancels + Completes + Creates + 1\n",
      "Intercept        0.675038\n",
      "Response_time   -0.000819\n",
      "Cancels          0.000294\n",
      "Completes        0.000383\n",
      "Creates         -0.000352\n",
      "dtype: float64\n"
     ]
    },
    {
     "data": {
      "text/plain": [
       "(None, None)"
      ]
     },
     "execution_count": 66,
     "metadata": {},
     "output_type": "execute_result"
    }
   ],
   "source": [
    "import statsmodels.formula.api as smf\n",
    "import statsmodels.api as sm\n",
    "\n",
    "data = d2c_mso[['Conversion_Rate', 'Cancels', 'Response_time', 'Creates', 'Completes']]\n",
    "def forward_selected(data, response):\n",
    " \n",
    "    remaining = set(data.columns)\n",
    "    remaining.remove(response)\n",
    "    selected = []\n",
    "    current_score, best_new_score = 0.0, 0.0\n",
    "    while remaining and current_score == best_new_score:\n",
    "        scores_with_candidates = []\n",
    "        for candidate in remaining:\n",
    "            formula = \"{} ~ {} + 1\".format(response,\n",
    "                                           ' + '.join(selected + [candidate]))\n",
    "            score = smf.ols(formula, data).fit().rsquared_adj\n",
    "            scores_with_candidates.append((score, candidate))\n",
    "        scores_with_candidates.sort()\n",
    "        best_new_score, best_candidate = scores_with_candidates.pop()\n",
    "        if current_score < best_new_score:\n",
    "            remaining.remove(best_candidate)\n",
    "            selected.append(best_candidate)\n",
    "            current_score = best_new_score\n",
    "    formula = \"{} ~ {} + 1\".format(response,\n",
    "                                   ' + '.join(selected))\n",
    "    model = smf.ols(formula, data).fit()\n",
    "    return model\n",
    "\n",
    "model = forward_selected(data, 'Conversion_Rate')\n",
    "print(model.model.formula),print(model.params)"
   ]
  },
  {
   "cell_type": "code",
   "execution_count": 58,
   "metadata": {},
   "outputs": [
    {
     "name": "stdout",
     "output_type": "stream",
     "text": [
      "0.5409614635245156\n",
      "0.5242691531072252\n"
     ]
    },
    {
     "data": {
      "text/plain": [
       "(None, None)"
      ]
     },
     "execution_count": 58,
     "metadata": {},
     "output_type": "execute_result"
    }
   ],
   "source": [
    "print(model.rsquared),print(model.rsquared_adj)"
   ]
  },
  {
   "cell_type": "code",
   "execution_count": 59,
   "metadata": {},
   "outputs": [
    {
     "name": "stdout",
     "output_type": "stream",
     "text": [
      "                            OLS Regression Results                            \n",
      "==============================================================================\n",
      "Dep. Variable:        Conversion_Rate   R-squared:                       0.541\n",
      "Model:                            OLS   Adj. R-squared:                  0.524\n",
      "Method:                 Least Squares   F-statistic:                     32.41\n",
      "Date:                Thu, 18 Jun 2020   Prob (F-statistic):           5.02e-10\n",
      "Time:                        15:49:33   Log-Likelihood:                 126.54\n",
      "No. Observations:                  58   AIC:                            -247.1\n",
      "Df Residuals:                      55   BIC:                            -240.9\n",
      "Df Model:                           2                                         \n",
      "Covariance Type:            nonrobust                                         \n",
      "=================================================================================\n",
      "                    coef    std err          t      P>|t|      [0.025      0.975]\n",
      "---------------------------------------------------------------------------------\n",
      "Intercept         0.7496      0.015     49.621      0.000       0.719       0.780\n",
      "Response_time    -0.0027      0.001     -4.950      0.000      -0.004      -0.002\n",
      "Cancels       -1.084e-05   2.48e-06     -4.369      0.000   -1.58e-05   -5.87e-06\n",
      "==============================================================================\n",
      "Omnibus:                       22.868   Durbin-Watson:                   0.728\n",
      "Prob(Omnibus):                  0.000   Jarque-Bera (JB):               34.260\n",
      "Skew:                          -1.423   Prob(JB):                     3.64e-08\n",
      "Kurtosis:                       5.464   Cond. No.                     1.60e+04\n",
      "==============================================================================\n",
      "\n",
      "Warnings:\n",
      "[1] Standard Errors assume that the covariance matrix of the errors is correctly specified.\n",
      "[2] The condition number is large, 1.6e+04. This might indicate that there are\n",
      "strong multicollinearity or other numerical problems.\n"
     ]
    }
   ],
   "source": [
    "print(model.summary())"
   ]
  },
  {
   "cell_type": "code",
   "execution_count": null,
   "metadata": {},
   "outputs": [],
   "source": []
  },
  {
   "cell_type": "code",
   "execution_count": 67,
   "metadata": {},
   "outputs": [
    {
     "name": "stdout",
     "output_type": "stream",
     "text": [
      "                            OLS Regression Results                            \n",
      "==============================================================================\n",
      "Dep. Variable:        Conversion_Rate   R-squared:                       0.929\n",
      "Model:                            OLS   Adj. R-squared:                  0.924\n",
      "Method:                 Least Squares   F-statistic:                     174.4\n",
      "Date:                Thu, 18 Jun 2020   Prob (F-statistic):           8.03e-30\n",
      "Time:                        15:57:56   Log-Likelihood:                 180.83\n",
      "No. Observations:                  58   AIC:                            -351.7\n",
      "Df Residuals:                      53   BIC:                            -341.4\n",
      "Df Model:                           4                                         \n",
      "Covariance Type:            nonrobust                                         \n",
      "=================================================================================\n",
      "                    coef    std err          t      P>|t|      [0.025      0.975]\n",
      "---------------------------------------------------------------------------------\n",
      "Intercept         0.6750      0.008     88.917      0.000       0.660       0.690\n",
      "Response_time    -0.0008      0.000     -3.269      0.002      -0.001      -0.000\n",
      "Cancels           0.0003      0.000      1.442      0.155      -0.000       0.001\n",
      "Completes         0.0004      0.000      1.886      0.065   -2.43e-05       0.001\n",
      "Creates          -0.0004      0.000     -1.732      0.089      -0.001    5.56e-05\n",
      "==============================================================================\n",
      "Omnibus:                        2.601   Durbin-Watson:                   1.253\n",
      "Prob(Omnibus):                  0.272   Jarque-Bera (JB):                2.009\n",
      "Skew:                           0.084   Prob(JB):                        0.366\n",
      "Kurtosis:                       3.896   Cond. No.                     6.76e+04\n",
      "==============================================================================\n",
      "\n",
      "Warnings:\n",
      "[1] Standard Errors assume that the covariance matrix of the errors is correctly specified.\n",
      "[2] The condition number is large, 6.76e+04. This might indicate that there are\n",
      "strong multicollinearity or other numerical problems.\n"
     ]
    }
   ],
   "source": [
    "#Add more variables\n",
    "print(model.summary())"
   ]
  },
  {
   "cell_type": "code",
   "execution_count": 24,
   "metadata": {},
   "outputs": [
    {
     "data": {
      "image/png": "[encoded data removed]",
      "text/plain": [
       "<Figure size 432x288 with 1 Axes>"
      ]
     },
     "metadata": {},
     "output_type": "display_data"
    },
    {
     "data": {
      "image/png": "[encoded data removed]",
      "text/plain": [
       "<Figure size 432x288 with 1 Axes>"
      ]
     },
     "metadata": {},
     "output_type": "display_data"
    }
   ],
   "source": [
    "from sklearn.tree import DecisionTreeRegressor\n",
    "from sklearn.metrics import mean_squared_error\n",
    "from sklearn.preprocessing import StandardScaler\n",
    "from sklearn.linear_model import LinearRegression\n",
    "from sklearn.model_selection import train_test_split\n",
    "from sklearn.metrics import explained_variance_score,r2_score\n",
    "from sklearn.ensemble import RandomForestRegressor, GradientBoostingRegressor, ExtraTreesRegressor, AdaBoostRegressor\n",
    "\n",
    "dataset = d2c_mso[['Conversion_Rate', 'Response_time']]\n",
    "X = dataset.iloc[:, :-1]\n",
    "y = dataset.iloc[:, 1]\n",
    " \n",
    "X_train, X_test, y_train, y_test = train_test_split(X, y, test_size=1/3, random_state=0)\n",
    "\n",
    "# Fitting Simple Linear Regression to the Training set\n",
    "from sklearn.linear_model import LinearRegression\n",
    "regressor = LinearRegression()\n",
    "regressor.fit(X_train, y_train)\n",
    "\n",
    "# Visualizing the Training set results\n",
    "viz_train = plt\n",
    "viz_train.scatter(X_train, y_train, color='red')\n",
    "viz_train.plot(X_train, regressor.predict(X_train), color='blue')\n",
    "viz_train.title('RT VS Conversion Rate (Training set)')\n",
    "viz_train.xlabel('Response Time')\n",
    "viz_train.ylabel('Conversion Rate')\n",
    "viz_train.show()\n",
    "\n",
    "# Visualizing the Test set results\n",
    "viz_test = plt\n",
    "viz_test.scatter(X_test, y_test, color='red')\n",
    "viz_test.plot(X_train, regressor.predict(X_train), color='blue')\n",
    "viz_test.title('RT VS Conversion Rate (Test set)')\n",
    "viz_test.xlabel('Response Time')\n",
    "viz_test.ylabel('Conversion Rate')\n",
    "viz_test.show()"
   ]
  },
  {
   "cell_type": "code",
   "execution_count": 73,
   "metadata": {},
   "outputs": [
    {
     "name": "stdout",
     "output_type": "stream",
     "text": [
      "0.23612267182270075\n"
     ]
    }
   ],
   "source": [
    "accuracy_lr = regressor.score(X_test, y_test)\n",
    "print(accuracy_lr)"
   ]
  },
  {
   "cell_type": "code",
   "execution_count": 75,
   "metadata": {},
   "outputs": [
    {
     "data": {
      "image/png": "[encoded data removed]",
      "text/plain": [
       "<Figure size 432x288 with 1 Axes>"
      ]
     },
     "metadata": {},
     "output_type": "display_data"
    },
    {
     "data": {
      "image/png": "[encoded data removed]",
      "text/plain": [
       "<Figure size 432x288 with 1 Axes>"
      ]
     },
     "metadata": {},
     "output_type": "display_data"
    }
   ],
   "source": [
    "dataset = d2c_mso[['Response_time','Conversion_Rate']]\n",
    "X = dataset.iloc[:, :-1]\n",
    "y = dataset.iloc[:, 1]\n",
    " \n",
    "X_train, X_test, y_train, y_test = train_test_split(X, y, test_size=1/3, random_state=0)\n",
    "\n",
    "# Fitting Simple Linear Regression to the Training set\n",
    "from sklearn.linear_model import LinearRegression\n",
    "regressor_1 = LinearRegression()\n",
    "regressor_1.fit(X_train, y_train)\n",
    "\n",
    "# Visualizing the Training set results\n",
    "viz_train = plt\n",
    "viz_train.scatter(X_train, y_train, color='red')\n",
    "viz_train.plot(X_train, regressor.predict(X_train), color='blue')\n",
    "viz_train.title('RT VS Conversion Rate (Training set)')\n",
    "viz_train.xlabel('Conversion Rate')\n",
    "viz_train.ylabel('Response Time')\n",
    "viz_train.show()\n",
    "\n",
    "# Visualizing the Test set results\n",
    "viz_test = plt\n",
    "viz_test.scatter(X_test, y_test, color='red')\n",
    "viz_test.plot(X_train, regressor.predict(X_train), color='blue')\n",
    "viz_test.title('RT VS Conversion Rate (Test set)')\n",
    "viz_test.xlabel('Conversion Rate')\n",
    "viz_test.ylabel('Response Time')\n",
    "viz_test.show()"
   ]
  },
  {
   "cell_type": "code",
   "execution_count": 76,
   "metadata": {},
   "outputs": [
    {
     "name": "stdout",
     "output_type": "stream",
     "text": [
      "0.23612267182270075\n"
     ]
    }
   ],
   "source": [
    "accuracy_lr2 = regressor_1.score(X_test, y_test)\n",
    "print(accuracy_lr2)"
   ]
  },
  {
   "cell_type": "code",
   "execution_count": 77,
   "metadata": {},
   "outputs": [
    {
     "data": {
      "image/png": "[encoded data removed]",
      "text/plain": [
       "<Figure size 432x288 with 1 Axes>"
      ]
     },
     "metadata": {},
     "output_type": "display_data"
    },
    {
     "data": {
      "image/png": "[encoded data removed]",
      "text/plain": [
       "<Figure size 432x288 with 1 Axes>"
      ]
     },
     "metadata": {},
     "output_type": "display_data"
    }
   ],
   "source": [
    "dataset = d2c_mso[['Conversion_Rate', 'Response_time']]\n",
    "X = dataset.iloc[:, :-1]\n",
    "y = dataset.iloc[:, 1]\n",
    "\n",
    "X_train, X_test, y_train, y_test = train_test_split(X, y, test_size=1/3, random_state=0)\n",
    "\n",
    "model2 = AdaBoostRegressor(DecisionTreeRegressor(max_depth=4),\n",
    "                          n_estimators=300, random_state=42)\n",
    "model2.fit(X_train, y_train)\n",
    "\n",
    "# Visualizing the Training set results\n",
    "viz_train = plt\n",
    "viz_train.scatter(X_train, y_train, color='red')\n",
    "viz_train.plot(X_train, regressor.predict(X_train), color='blue')\n",
    "viz_train.title('RT VS Conversion Rate (Training set)')\n",
    "viz_train.xlabel('Conversion Rate')\n",
    "viz_train.ylabel('Response Time')\n",
    "viz_train.show()\n",
    "\n",
    "# Visualizing the Test set results\n",
    "viz_test = plt\n",
    "viz_test.scatter(X_test, y_test, color='red')\n",
    "viz_test.plot(X_train, regressor.predict(X_train), color='blue')\n",
    "viz_test.title('RT VS Conversion Rate (Test set)')\n",
    "viz_test.xlabel('Conversion Rate')\n",
    "viz_test.ylabel('Response Time')\n",
    "viz_test.show()"
   ]
  },
  {
   "cell_type": "code",
   "execution_count": 78,
   "metadata": {},
   "outputs": [
    {
     "name": "stdout",
     "output_type": "stream",
     "text": [
      "-0.22259238100679202\n"
     ]
    }
   ],
   "source": [
    "accuracy_AdaBoost = model2.score(X_test, y_test)\n",
    "print(accuracy_AdaBoost)"
   ]
  },
  {
   "cell_type": "code",
   "execution_count": 80,
   "metadata": {},
   "outputs": [
    {
     "name": "stdout",
     "output_type": "stream",
     "text": [
      "                            OLS Regression Results                            \n",
      "==============================================================================\n",
      "Dep. Variable:        Conversion_Rate   R-squared:                       0.541\n",
      "Model:                            OLS   Adj. R-squared:                  0.524\n",
      "Method:                 Least Squares   F-statistic:                     32.41\n",
      "Date:                Thu, 18 Jun 2020   Prob (F-statistic):           5.02e-10\n",
      "Time:                        16:47:54   Log-Likelihood:                 126.54\n",
      "No. Observations:                  58   AIC:                            -247.1\n",
      "Df Residuals:                      55   BIC:                            -240.9\n",
      "Df Model:                           2                                         \n",
      "Covariance Type:            nonrobust                                         \n",
      "=================================================================================\n",
      "                    coef    std err          t      P>|t|      [0.025      0.975]\n",
      "---------------------------------------------------------------------------------\n",
      "Intercept         0.7496      0.015     49.621      0.000       0.719       0.780\n",
      "Response_time    -0.0027      0.001     -4.950      0.000      -0.004      -0.002\n",
      "Cancels       -1.084e-05   2.48e-06     -4.369      0.000   -1.58e-05   -5.87e-06\n",
      "==============================================================================\n",
      "Omnibus:                       22.868   Durbin-Watson:                   0.728\n",
      "Prob(Omnibus):                  0.000   Jarque-Bera (JB):               34.260\n",
      "Skew:                          -1.423   Prob(JB):                     3.64e-08\n",
      "Kurtosis:                       5.464   Cond. No.                     1.60e+04\n",
      "==============================================================================\n",
      "\n",
      "Warnings:\n",
      "[1] Standard Errors assume that the covariance matrix of the errors is correctly specified.\n",
      "[2] The condition number is large, 1.6e+04. This might indicate that there are\n",
      "strong multicollinearity or other numerical problems.\n"
     ]
    }
   ],
   "source": [
    "# Ordinary least squares (OLS) Algorithm\n",
    "modelfit = smf.ols(formula='Conversion_Rate ~ Response_time+Cancels',data=d2c_mso).fit()\n",
    "\n",
    "print(modelfit.summary())"
   ]
  },
  {
   "cell_type": "code",
   "execution_count": 83,
   "metadata": {},
   "outputs": [
    {
     "name": "stdout",
     "output_type": "stream",
     "text": [
      "The linear model is: CVR = 0.73231 + -0.0034642RT\n"
     ]
    }
   ],
   "source": [
    "# Linear Regression Model\n",
    "X = d2c_mso['Response_time'].values.reshape(-1,1)\n",
    "y = d2c_mso['Conversion_Rate'].values.reshape(-1,1)\n",
    "reg = LinearRegression()\n",
    "reg.fit(X, y)\n",
    "print(\"The linear model is: CVR = {:.5} + {:.5}RT\".format(reg.intercept_[0], reg.coef_[0][0]))"
   ]
  },
  {
   "cell_type": "code",
   "execution_count": 84,
   "metadata": {},
   "outputs": [
    {
     "data": {
      "image/png": "[encoded data removed]",
      "text/plain": [
       "<Figure size 1152x576 with 1 Axes>"
      ]
     },
     "metadata": {},
     "output_type": "display_data"
    }
   ],
   "source": [
    "# Visualize how the line fits the data\n",
    "predictions = reg.predict(X)\n",
    "plt.figure(figsize=(16, 8))\n",
    "plt.scatter(\n",
    "    d2c_mso['Response_time'],\n",
    "    d2c_mso['Conversion_Rate'],\n",
    "    c='black'\n",
    ")\n",
    "plt.plot(\n",
    "    d2c_mso['Response_time'],\n",
    "    predictions,\n",
    "    c='blue',\n",
    "    linewidth=2\n",
    ")\n",
    "plt.xlabel(\"RT on Conversion RT\")\n",
    "plt.ylabel(\"Conversion Rate\")\n",
    "plt.show()"
   ]
  },
  {
   "cell_type": "code",
   "execution_count": 85,
   "metadata": {},
   "outputs": [
    {
     "name": "stdout",
     "output_type": "stream",
     "text": [
      "                            OLS Regression Results                            \n",
      "==============================================================================\n",
      "Dep. Variable:        Conversion_Rate   R-squared:                       0.382\n",
      "Model:                            OLS   Adj. R-squared:                  0.371\n",
      "Method:                 Least Squares   F-statistic:                     34.56\n",
      "Date:                Thu, 18 Jun 2020   Prob (F-statistic):           2.39e-07\n",
      "Time:                        17:02:38   Log-Likelihood:                 117.90\n",
      "No. Observations:                  58   AIC:                            -231.8\n",
      "Df Residuals:                      56   BIC:                            -227.7\n",
      "Df Model:                           1                                         \n",
      "Covariance Type:            nonrobust                                         \n",
      "=================================================================================\n",
      "                    coef    std err          t      P>|t|      [0.025      0.975]\n",
      "---------------------------------------------------------------------------------\n",
      "const             0.7323      0.017     43.673      0.000       0.699       0.766\n",
      "Response_time    -0.0035      0.001     -5.879      0.000      -0.005      -0.002\n",
      "==============================================================================\n",
      "Omnibus:                       15.531   Durbin-Watson:                   0.530\n",
      "Prob(Omnibus):                  0.000   Jarque-Bera (JB):               20.415\n",
      "Skew:                          -1.006   Prob(JB):                     3.69e-05\n",
      "Kurtosis:                       5.098   Cond. No.                         113.\n",
      "==============================================================================\n",
      "\n",
      "Warnings:\n",
      "[1] Standard Errors assume that the covariance matrix of the errors is correctly specified.\n"
     ]
    }
   ],
   "source": [
    "#Assessing the relevancy of the model\n",
    "X = d2c_mso['Response_time']\n",
    "y = d2c_mso['Conversion_Rate']\n",
    "X2 = sm.add_constant(X)\n",
    "est = sm.OLS(y, X2)\n",
    "est2 = est.fit()\n",
    "print(est2.summary())"
   ]
  },
  {
   "cell_type": "markdown",
   "metadata": {},
   "source": [
    "# Interpretation of Results:\n",
    "The regression output above shows that the Conversion Rate and Response Time variables are statistically significant because their p-values equal 0.000. This means that there is a strong correlation between these coefficients and the target (Conversion Rate). \n",
    "The sign of a regression coefficient tells you whether there is a positive or negative correlation between each independent variable the dependent variable.\n",
    "A negative coefficient suggests that as the independent variable (RT) increases, the dependent variable (CVR) tends to decrease."
   ]
  },
  {
   "cell_type": "code",
   "execution_count": 86,
   "metadata": {},
   "outputs": [
    {
     "name": "stdout",
     "output_type": "stream",
     "text": [
      "                            OLS Regression Results                            \n",
      "==============================================================================\n",
      "Dep. Variable:        Conversion_Rate   R-squared:                       0.049\n",
      "Model:                            OLS   Adj. R-squared:                  0.032\n",
      "Method:                 Least Squares   F-statistic:                     2.912\n",
      "Date:                Thu, 18 Jun 2020   Prob (F-statistic):             0.0935\n",
      "Time:                        17:25:58   Log-Likelihood:                 120.77\n",
      "No. Observations:                  58   AIC:                            -237.5\n",
      "Df Residuals:                      56   BIC:                            -233.4\n",
      "Df Model:                           1                                         \n",
      "Covariance Type:            nonrobust                                         \n",
      "=================================================================================\n",
      "                    coef    std err          t      P>|t|      [0.025      0.975]\n",
      "---------------------------------------------------------------------------------\n",
      "const             0.8660      0.015     58.474      0.000       0.836       0.896\n",
      "Response_time    -0.0010      0.001     -1.706      0.093      -0.002       0.000\n",
      "==============================================================================\n",
      "Omnibus:                        8.449   Durbin-Watson:                   1.303\n",
      "Prob(Omnibus):                  0.015   Jarque-Bera (JB):               18.313\n",
      "Skew:                           0.052   Prob(JB):                     0.000106\n",
      "Kurtosis:                       5.751   Cond. No.                         95.7\n",
      "==============================================================================\n",
      "\n",
      "Warnings:\n",
      "[1] Standard Errors assume that the covariance matrix of the errors is correctly specified.\n"
     ]
    }
   ],
   "source": [
    "X = hw_mso['Response_time']\n",
    "y = hw_mso['Conversion_Rate']\n",
    "X2 = sm.add_constant(X)\n",
    "est = sm.OLS(y, X2)\n",
    "est2 = est.fit()\n",
    "print(est2.summary())"
   ]
  },
  {
   "cell_type": "code",
   "execution_count": 28,
   "metadata": {},
   "outputs": [
    {
     "name": "stdout",
     "output_type": "stream",
     "text": [
      "                            OLS Regression Results                            \n",
      "==============================================================================\n",
      "Dep. Variable:        Conversion_Rate   R-squared:                       0.412\n",
      "Model:                            OLS   Adj. R-squared:                  0.402\n",
      "Method:                 Least Squares   F-statistic:                     39.31\n",
      "Date:                Fri, 19 Jun 2020   Prob (F-statistic):           5.51e-08\n",
      "Time:                        11:07:37   Log-Likelihood:                 127.83\n",
      "No. Observations:                  58   AIC:                            -251.7\n",
      "Df Residuals:                      56   BIC:                            -247.5\n",
      "Df Model:                           1                                         \n",
      "Covariance Type:            nonrobust                                         \n",
      "=================================================================================\n",
      "                    coef    std err          t      P>|t|      [0.025      0.975]\n",
      "---------------------------------------------------------------------------------\n",
      "const             0.7639      0.015     51.023      0.000       0.734       0.794\n",
      "Response_time    -0.0042      0.001     -6.270      0.000      -0.005      -0.003\n",
      "==============================================================================\n",
      "Omnibus:                       35.756   Durbin-Watson:                   0.548\n",
      "Prob(Omnibus):                  0.000   Jarque-Bera (JB):               88.650\n",
      "Skew:                          -1.881   Prob(JB):                     5.62e-20\n",
      "Kurtosis:                       7.747   Cond. No.                         94.9\n",
      "==============================================================================\n",
      "\n",
      "Warnings:\n",
      "[1] Standard Errors assume that the covariance matrix of the errors is correctly specified.\n"
     ]
    }
   ],
   "source": [
    "X = d2c_online['Response_time']\n",
    "y = d2c_online['Conversion_Rate']\n",
    "X2 = sm.add_constant(X)\n",
    "est = sm.OLS(y, X2)\n",
    "est2 = est.fit()\n",
    "print(est2.summary())"
   ]
  },
  {
   "cell_type": "code",
   "execution_count": 29,
   "metadata": {},
   "outputs": [
    {
     "name": "stdout",
     "output_type": "stream",
     "text": [
      "                            OLS Regression Results                            \n",
      "==============================================================================\n",
      "Dep. Variable:        Conversion_Rate   R-squared:                       0.055\n",
      "Model:                            OLS   Adj. R-squared:                  0.039\n",
      "Method:                 Least Squares   F-statistic:                     3.290\n",
      "Date:                Fri, 19 Jun 2020   Prob (F-statistic):             0.0751\n",
      "Time:                        11:08:13   Log-Likelihood:                 56.467\n",
      "No. Observations:                  58   AIC:                            -108.9\n",
      "Df Residuals:                      56   BIC:                            -104.8\n",
      "Df Model:                           1                                         \n",
      "Covariance Type:            nonrobust                                         \n",
      "=================================================================================\n",
      "                    coef    std err          t      P>|t|      [0.025      0.975]\n",
      "---------------------------------------------------------------------------------\n",
      "const             0.8963      0.030     30.195      0.000       0.837       0.956\n",
      "Response_time    -0.0026      0.001     -1.814      0.075      -0.006       0.000\n",
      "==============================================================================\n",
      "Omnibus:                        2.733   Durbin-Watson:                   1.815\n",
      "Prob(Omnibus):                  0.255   Jarque-Bera (JB):                2.536\n",
      "Skew:                          -0.503   Prob(JB):                        0.281\n",
      "Kurtosis:                       2.802   Cond. No.                         49.7\n",
      "==============================================================================\n",
      "\n",
      "Warnings:\n",
      "[1] Standard Errors assume that the covariance matrix of the errors is correctly specified.\n"
     ]
    }
   ],
   "source": [
    "X = hw_online['Response_time']\n",
    "y = hw_online['Conversion_Rate']\n",
    "X2 = sm.add_constant(X)\n",
    "est = sm.OLS(y, X2)\n",
    "est2 = est.fit()\n",
    "print(est2.summary())"
   ]
  },
  {
   "cell_type": "code",
   "execution_count": null,
   "metadata": {},
   "outputs": [],
   "source": []
  },
  {
   "cell_type": "code",
   "execution_count": 11,
   "metadata": {},
   "outputs": [
    {
     "data": {
      "text/html": [
       "<div>\n",
       "<style scoped>\n",
       "    .dataframe tbody tr th:only-of-type {\n",
       "        vertical-align: middle;\n",
       "    }\n",
       "\n",
       "    .dataframe tbody tr th {\n",
       "        vertical-align: top;\n",
       "    }\n",
       "\n",
       "    .dataframe thead th {\n",
       "        text-align: right;\n",
       "    }\n",
       "</style>\n",
       "<table border=\"1\" class=\"dataframe\">\n",
       "  <thead>\n",
       "    <tr style=\"text-align: right;\">\n",
       "      <th></th>\n",
       "      <th>Year</th>\n",
       "      <th>WeekNumber</th>\n",
       "      <th>Coverage_code</th>\n",
       "      <th>Channel</th>\n",
       "      <th>Creates</th>\n",
       "      <th>Cancels</th>\n",
       "      <th>Completes</th>\n",
       "      <th>Response_time</th>\n",
       "      <th>Conversion_Rate</th>\n",
       "    </tr>\n",
       "  </thead>\n",
       "  <tbody>\n",
       "    <tr>\n",
       "      <th>0</th>\n",
       "      <td>2019</td>\n",
       "      <td>1</td>\n",
       "      <td>D2C</td>\n",
       "      <td>MSO</td>\n",
       "      <td>2616</td>\n",
       "      <td>905.0</td>\n",
       "      <td>1708.0</td>\n",
       "      <td>3.660</td>\n",
       "      <td>0.665</td>\n",
       "    </tr>\n",
       "    <tr>\n",
       "      <th>1</th>\n",
       "      <td>2019</td>\n",
       "      <td>1</td>\n",
       "      <td>D2C</td>\n",
       "      <td>Online</td>\n",
       "      <td>1328</td>\n",
       "      <td>397.0</td>\n",
       "      <td>930.0</td>\n",
       "      <td>3.385</td>\n",
       "      <td>0.695</td>\n",
       "    </tr>\n",
       "    <tr>\n",
       "      <th>2</th>\n",
       "      <td>2019</td>\n",
       "      <td>1</td>\n",
       "      <td>HW Init</td>\n",
       "      <td>MSO</td>\n",
       "      <td>65</td>\n",
       "      <td>9.0</td>\n",
       "      <td>56.0</td>\n",
       "      <td>3.995</td>\n",
       "      <td>0.850</td>\n",
       "    </tr>\n",
       "  </tbody>\n",
       "</table>\n",
       "</div>"
      ],
      "text/plain": [
       "   Year  WeekNumber Coverage_code Channel  Creates  Cancels  Completes  \\\n",
       "0  2019           1           D2C     MSO     2616    905.0     1708.0   \n",
       "1  2019           1           D2C  Online     1328    397.0      930.0   \n",
       "2  2019           1       HW Init     MSO       65      9.0       56.0   \n",
       "\n",
       "   Response_time  Conversion_Rate  \n",
       "0          3.660            0.665  \n",
       "1          3.385            0.695  \n",
       "2          3.995            0.850  "
      ]
     },
     "execution_count": 11,
     "metadata": {},
     "output_type": "execute_result"
    }
   ],
   "source": [
    "df_grp = ds.copy()\n",
    "group = df_grp.groupby(['Year','WeekNumber','Coverage_code','Channel'])\n",
    "grp = group.aggregate({'Creates':'sum'})\n",
    "grp['Cancels'] = df_grp.groupby(['Year','WeekNumber','Coverage_code','Channel']).Cancels.sum()\n",
    "grp['Completes'] = df_grp.groupby(['Year','WeekNumber','Coverage_code','Channel']).Completes.sum()\n",
    "grp['Response_time'] = df_grp.groupby(['Year','WeekNumber','Coverage_code','Channel']).Response_time.mean()\n",
    "grp['Conversion_Rate'] = df_grp.groupby(['Year','WeekNumber','Coverage_code','Channel']).Conversion_Rate.mean()\n",
    "grp.reset_index(drop=False,inplace=True)\n",
    "grp.head(3)"
   ]
  },
  {
   "cell_type": "code",
   "execution_count": 12,
   "metadata": {},
   "outputs": [
    {
     "name": "stdout",
     "output_type": "stream",
     "text": [
      "  Coverage_code Channel   RT_Mean    RT_Min    RT_Max\n",
      "0           D2C     MSO  4.060523  2.801429  6.342857\n",
      "1           D2C  Online  3.239222  2.377143  5.148571\n",
      "2       HW Init     MSO  3.708314  2.588571  6.212857\n",
      "3       HW Init  Online  3.050572  1.000000  5.738571\n",
      "  Coverage_code Channel  CVR_Mean   CVR_Min   CVR_Max\n",
      "0           D2C     MSO  0.636925  0.543333  0.701429\n",
      "1           D2C  Online  0.672710  0.564286  0.722857\n",
      "2       HW Init     MSO  0.841716  0.740000  0.941429\n",
      "3       HW Init  Online  0.847233  0.625000  1.000000\n"
     ]
    },
    {
     "data": {
      "text/plain": [
       "(None, None)"
      ]
     },
     "execution_count": 12,
     "metadata": {},
     "output_type": "execute_result"
    }
   ],
   "source": [
    "rt_mean_max = grp.groupby(['Coverage_code', 'Channel']).agg({'Response_time': ['mean', 'min', 'max']})\n",
    "rt_mean_max.columns = ['RT_Mean', 'RT_Min', 'RT_Max']\n",
    "rt_mean_max = rt_mean_max.reset_index()\n",
    "\n",
    "cvr_mean_max = grp.groupby(['Coverage_code', 'Channel']).agg({'Conversion_Rate': ['mean', 'min', 'max']})\n",
    "cvr_mean_max.columns = ['CVR_Mean', 'CVR_Min', 'CVR_Max']\n",
    "cvr_mean_max = cvr_mean_max.reset_index()\n",
    "print(rt_mean_max),print(cvr_mean_max)"
   ]
  },
  {
   "cell_type": "code",
   "execution_count": null,
   "metadata": {},
   "outputs": [],
   "source": []
  },
  {
   "cell_type": "code",
   "execution_count": 10,
   "metadata": {},
   "outputs": [
    {
     "name": "stderr",
     "output_type": "stream",
     "text": [
      "C:\\Users\\bagabi\\AppData\\Local\\Continuum\\anaconda3\\lib\\site-packages\\scipy\\stats\\stats.py:1713: FutureWarning: Using a non-tuple sequence for multidimensional indexing is deprecated; use `arr[tuple(seq)]` instead of `arr[seq]`. In the future this will be interpreted as an array index, `arr[np.array(seq)]`, which will result either in an error or a different result.\n",
      "  return np.add.reduce(sorted[indexer] * weights, axis=axis) / sumval\n"
     ]
    },
    {
     "data": {
      "image/png": "[encoded data removed]",
      "text/plain": [
       "<Figure size 432x288 with 1 Axes>"
      ]
     },
     "metadata": {},
     "output_type": "display_data"
    }
   ],
   "source": [
    "ax = sns.regplot(x=\"Response_time\", y=\"Conversion_Rate\", data=grp)"
   ]
  },
  {
   "cell_type": "code",
   "execution_count": 12,
   "metadata": {},
   "outputs": [
    {
     "data": {
      "text/plain": [
       "<matplotlib.axes._subplots.AxesSubplot at 0xb4c6390>"
      ]
     },
     "execution_count": 12,
     "metadata": {},
     "output_type": "execute_result"
    },
    {
     "data": {
      "image/png": "[encoded data removed]",
      "text/plain": [
       "<Figure size 1080x720 with 2 Axes>"
      ]
     },
     "metadata": {},
     "output_type": "display_data"
    }
   ],
   "source": [
    "df_corr = grp[['Conversion_Rate', 'Cancels', 'Response_time']]\n",
    "plt.figure(figsize=(15, 10))\n",
    "sns.heatmap(df_corr.corr(), annot=True)"
   ]
  },
  {
   "cell_type": "code",
   "execution_count": 9,
   "metadata": {},
   "outputs": [],
   "source": [
    "d2c_mso = (grp[grp[\"Coverage_code\"].isin([\"D2C\"]) & grp[\"Channel\"].isin([\"MSO\"])])\n",
    "hw_mso = (grp[grp[\"Coverage_code\"].isin([\"HW Init\"]) & grp[\"Channel\"].isin([\"MSO\"])])\n",
    "d2c_online = (grp[grp[\"Coverage_code\"].isin([\"D2C\"]) & grp[\"Channel\"].isin([\"Online\"])])\n",
    "hw_online = (grp[grp[\"Coverage_code\"].isin([\"HW Init\"]) & grp[\"Channel\"].isin([\"Online\"])])"
   ]
  },
  {
   "cell_type": "code",
   "execution_count": 14,
   "metadata": {},
   "outputs": [
    {
     "data": {
      "text/html": [
       "<div>\n",
       "<style scoped>\n",
       "    .dataframe tbody tr th:only-of-type {\n",
       "        vertical-align: middle;\n",
       "    }\n",
       "\n",
       "    .dataframe tbody tr th {\n",
       "        vertical-align: top;\n",
       "    }\n",
       "\n",
       "    .dataframe thead th {\n",
       "        text-align: right;\n",
       "    }\n",
       "</style>\n",
       "<table border=\"1\" class=\"dataframe\">\n",
       "  <thead>\n",
       "    <tr style=\"text-align: right;\">\n",
       "      <th></th>\n",
       "      <th>Conversion_Rate</th>\n",
       "      <th>Cancels</th>\n",
       "      <th>Response_time</th>\n",
       "    </tr>\n",
       "  </thead>\n",
       "  <tbody>\n",
       "    <tr>\n",
       "      <th>Conversion_Rate</th>\n",
       "      <td>1.000000</td>\n",
       "      <td>-0.580024</td>\n",
       "      <td>-0.726131</td>\n",
       "    </tr>\n",
       "    <tr>\n",
       "      <th>Cancels</th>\n",
       "      <td>-0.580024</td>\n",
       "      <td>1.000000</td>\n",
       "      <td>0.206634</td>\n",
       "    </tr>\n",
       "    <tr>\n",
       "      <th>Response_time</th>\n",
       "      <td>-0.726131</td>\n",
       "      <td>0.206634</td>\n",
       "      <td>1.000000</td>\n",
       "    </tr>\n",
       "  </tbody>\n",
       "</table>\n",
       "</div>"
      ],
      "text/plain": [
       "                 Conversion_Rate   Cancels  Response_time\n",
       "Conversion_Rate         1.000000 -0.580024      -0.726131\n",
       "Cancels                -0.580024  1.000000       0.206634\n",
       "Response_time          -0.726131  0.206634       1.000000"
      ]
     },
     "execution_count": 14,
     "metadata": {},
     "output_type": "execute_result"
    }
   ],
   "source": [
    "d2c_mso[['Conversion_Rate', 'Cancels', 'Response_time']].corr()"
   ]
  },
  {
   "cell_type": "code",
   "execution_count": 15,
   "metadata": {},
   "outputs": [
    {
     "data": {
      "text/html": [
       "<div>\n",
       "<style scoped>\n",
       "    .dataframe tbody tr th:only-of-type {\n",
       "        vertical-align: middle;\n",
       "    }\n",
       "\n",
       "    .dataframe tbody tr th {\n",
       "        vertical-align: top;\n",
       "    }\n",
       "\n",
       "    .dataframe thead th {\n",
       "        text-align: right;\n",
       "    }\n",
       "</style>\n",
       "<table border=\"1\" class=\"dataframe\">\n",
       "  <thead>\n",
       "    <tr style=\"text-align: right;\">\n",
       "      <th></th>\n",
       "      <th>Conversion_Rate</th>\n",
       "      <th>Cancels</th>\n",
       "      <th>Response_time</th>\n",
       "    </tr>\n",
       "  </thead>\n",
       "  <tbody>\n",
       "    <tr>\n",
       "      <th>Conversion_Rate</th>\n",
       "      <td>1.000000</td>\n",
       "      <td>-0.211011</td>\n",
       "      <td>-0.224057</td>\n",
       "    </tr>\n",
       "    <tr>\n",
       "      <th>Cancels</th>\n",
       "      <td>-0.211011</td>\n",
       "      <td>1.000000</td>\n",
       "      <td>0.121163</td>\n",
       "    </tr>\n",
       "    <tr>\n",
       "      <th>Response_time</th>\n",
       "      <td>-0.224057</td>\n",
       "      <td>0.121163</td>\n",
       "      <td>1.000000</td>\n",
       "    </tr>\n",
       "  </tbody>\n",
       "</table>\n",
       "</div>"
      ],
      "text/plain": [
       "                 Conversion_Rate   Cancels  Response_time\n",
       "Conversion_Rate         1.000000 -0.211011      -0.224057\n",
       "Cancels                -0.211011  1.000000       0.121163\n",
       "Response_time          -0.224057  0.121163       1.000000"
      ]
     },
     "execution_count": 15,
     "metadata": {},
     "output_type": "execute_result"
    }
   ],
   "source": [
    "hw_mso[['Conversion_Rate', 'Cancels', 'Response_time']].corr()"
   ]
  },
  {
   "cell_type": "code",
   "execution_count": 16,
   "metadata": {},
   "outputs": [
    {
     "data": {
      "text/html": [
       "<div>\n",
       "<style scoped>\n",
       "    .dataframe tbody tr th:only-of-type {\n",
       "        vertical-align: middle;\n",
       "    }\n",
       "\n",
       "    .dataframe tbody tr th {\n",
       "        vertical-align: top;\n",
       "    }\n",
       "\n",
       "    .dataframe thead th {\n",
       "        text-align: right;\n",
       "    }\n",
       "</style>\n",
       "<table border=\"1\" class=\"dataframe\">\n",
       "  <thead>\n",
       "    <tr style=\"text-align: right;\">\n",
       "      <th></th>\n",
       "      <th>Conversion_Rate</th>\n",
       "      <th>Cancels</th>\n",
       "      <th>Response_time</th>\n",
       "    </tr>\n",
       "  </thead>\n",
       "  <tbody>\n",
       "    <tr>\n",
       "      <th>Conversion_Rate</th>\n",
       "      <td>1.000000</td>\n",
       "      <td>-0.775498</td>\n",
       "      <td>-0.702552</td>\n",
       "    </tr>\n",
       "    <tr>\n",
       "      <th>Cancels</th>\n",
       "      <td>-0.775498</td>\n",
       "      <td>1.000000</td>\n",
       "      <td>0.498904</td>\n",
       "    </tr>\n",
       "    <tr>\n",
       "      <th>Response_time</th>\n",
       "      <td>-0.702552</td>\n",
       "      <td>0.498904</td>\n",
       "      <td>1.000000</td>\n",
       "    </tr>\n",
       "  </tbody>\n",
       "</table>\n",
       "</div>"
      ],
      "text/plain": [
       "                 Conversion_Rate   Cancels  Response_time\n",
       "Conversion_Rate         1.000000 -0.775498      -0.702552\n",
       "Cancels                -0.775498  1.000000       0.498904\n",
       "Response_time          -0.702552  0.498904       1.000000"
      ]
     },
     "execution_count": 16,
     "metadata": {},
     "output_type": "execute_result"
    }
   ],
   "source": [
    "d2c_online[['Conversion_Rate', 'Cancels', 'Response_time']].corr()"
   ]
  },
  {
   "cell_type": "code",
   "execution_count": 17,
   "metadata": {},
   "outputs": [
    {
     "data": {
      "text/html": [
       "<div>\n",
       "<style scoped>\n",
       "    .dataframe tbody tr th:only-of-type {\n",
       "        vertical-align: middle;\n",
       "    }\n",
       "\n",
       "    .dataframe tbody tr th {\n",
       "        vertical-align: top;\n",
       "    }\n",
       "\n",
       "    .dataframe thead th {\n",
       "        text-align: right;\n",
       "    }\n",
       "</style>\n",
       "<table border=\"1\" class=\"dataframe\">\n",
       "  <thead>\n",
       "    <tr style=\"text-align: right;\">\n",
       "      <th></th>\n",
       "      <th>Conversion_Rate</th>\n",
       "      <th>Cancels</th>\n",
       "      <th>Response_time</th>\n",
       "    </tr>\n",
       "  </thead>\n",
       "  <tbody>\n",
       "    <tr>\n",
       "      <th>Conversion_Rate</th>\n",
       "      <td>1.000000</td>\n",
       "      <td>-0.634363</td>\n",
       "      <td>-0.286779</td>\n",
       "    </tr>\n",
       "    <tr>\n",
       "      <th>Cancels</th>\n",
       "      <td>-0.634363</td>\n",
       "      <td>1.000000</td>\n",
       "      <td>0.465784</td>\n",
       "    </tr>\n",
       "    <tr>\n",
       "      <th>Response_time</th>\n",
       "      <td>-0.286779</td>\n",
       "      <td>0.465784</td>\n",
       "      <td>1.000000</td>\n",
       "    </tr>\n",
       "  </tbody>\n",
       "</table>\n",
       "</div>"
      ],
      "text/plain": [
       "                 Conversion_Rate   Cancels  Response_time\n",
       "Conversion_Rate         1.000000 -0.634363      -0.286779\n",
       "Cancels                -0.634363  1.000000       0.465784\n",
       "Response_time          -0.286779  0.465784       1.000000"
      ]
     },
     "execution_count": 17,
     "metadata": {},
     "output_type": "execute_result"
    }
   ],
   "source": [
    "hw_online[['Conversion_Rate', 'Cancels', 'Response_time']].corr()"
   ]
  },
  {
   "cell_type": "code",
   "execution_count": 10,
   "metadata": {},
   "outputs": [
    {
     "name": "stderr",
     "output_type": "stream",
     "text": [
      "C:\\Users\\bagabi\\AppData\\Local\\Continuum\\anaconda3\\lib\\site-packages\\ipykernel_launcher.py:5: RuntimeWarning: Degrees of freedom <= 0 for slice\n",
      "  \"\"\"\n",
      "C:\\Users\\bagabi\\AppData\\Local\\Continuum\\anaconda3\\lib\\site-packages\\numpy\\lib\\function_base.py:2326: RuntimeWarning: divide by zero encountered in true_divide\n",
      "  c *= np.true_divide(1, fact)\n",
      "C:\\Users\\bagabi\\AppData\\Local\\Continuum\\anaconda3\\lib\\site-packages\\numpy\\lib\\function_base.py:2326: RuntimeWarning: invalid value encountered in multiply\n",
      "  c *= np.true_divide(1, fact)\n"
     ]
    },
    {
     "name": "stdout",
     "output_type": "stream",
     "text": [
      "RT: mean=4.06 stdv=0.86\n",
      "CVR: mean=0.64 stdv=0.04\n",
      "Pearsons correlation: -0.73\n"
     ]
    },
    {
     "data": {
      "image/png": "[encoded data removed]",
      "text/plain": [
       "<Figure size 432x288 with 1 Axes>"
      ]
     },
     "metadata": {},
     "output_type": "display_data"
    }
   ],
   "source": [
    "RT = d2c_mso[['Response_time']]\n",
    "CVR = d2c_mso[['Conversion_Rate']]\n",
    "\n",
    "corr, _ = pearsonr(RT, CVR)\n",
    "covariance = cov(RT, CVR)\n",
    "corr, _ = pearsonr(RT, CVR)\n",
    "\n",
    "print('RT: mean=%.2f stdv=%.2f' % (mean(RT), std(RT)))\n",
    "print('CVR: mean=%.2f stdv=%.2f' % (mean(CVR), std(CVR)))\n",
    "print('Pearsons correlation: %.2f' % corr)\n",
    "# plot\n",
    "\n",
    "plt.xlabel(\"Scatter Plot of RT on Conversion Rate (D2C_MSO)\")\n",
    "plt.ylabel(\"Conversion Rate\")\n",
    "\n",
    "pyplot.scatter(RT, CVR)\n",
    "pyplot.show()"
   ]
  },
  {
   "cell_type": "code",
   "execution_count": 11,
   "metadata": {},
   "outputs": [
    {
     "name": "stderr",
     "output_type": "stream",
     "text": [
      "C:\\Users\\bagabi\\AppData\\Local\\Continuum\\anaconda3\\lib\\site-packages\\ipykernel_launcher.py:5: RuntimeWarning: Degrees of freedom <= 0 for slice\n",
      "  \"\"\"\n",
      "C:\\Users\\bagabi\\AppData\\Local\\Continuum\\anaconda3\\lib\\site-packages\\numpy\\lib\\function_base.py:2326: RuntimeWarning: divide by zero encountered in true_divide\n",
      "  c *= np.true_divide(1, fact)\n",
      "C:\\Users\\bagabi\\AppData\\Local\\Continuum\\anaconda3\\lib\\site-packages\\numpy\\lib\\function_base.py:2326: RuntimeWarning: invalid value encountered in multiply\n",
      "  c *= np.true_divide(1, fact)\n"
     ]
    },
    {
     "name": "stdout",
     "output_type": "stream",
     "text": [
      "RT: mean=3.71 stdv=0.88\n",
      "CVR: mean=0.84 stdv=0.03\n",
      "Pearsons correlation: -0.22\n"
     ]
    },
    {
     "data": {
      "image/png": "[encoded data removed]",
      "text/plain": [
       "<Figure size 432x288 with 1 Axes>"
      ]
     },
     "metadata": {},
     "output_type": "display_data"
    }
   ],
   "source": [
    "RT = hw_mso[['Response_time']]\n",
    "CVR = hw_mso[['Conversion_Rate']]\n",
    "\n",
    "corr, _ = pearsonr(RT, CVR)\n",
    "covariance = cov(RT, CVR)\n",
    "corr, _ = pearsonr(RT, CVR)\n",
    "\n",
    "print('RT: mean=%.2f stdv=%.2f' % (mean(RT), std(RT)))\n",
    "print('CVR: mean=%.2f stdv=%.2f' % (mean(CVR), std(CVR)))\n",
    "print('Pearsons correlation: %.2f' % corr)\n",
    "# plot\n",
    "\n",
    "plt.xlabel(\"Scatter Plot of RT on Conversion Rate (D2C_MSO)\")\n",
    "plt.ylabel(\"Conversion Rate\")\n",
    "\n",
    "pyplot.scatter(RT, CVR)\n",
    "pyplot.show()"
   ]
  },
  {
   "cell_type": "code",
   "execution_count": 19,
   "metadata": {},
   "outputs": [
    {
     "data": {
      "text/plain": [
       "<matplotlib.axes._subplots.AxesSubplot at 0xbd13f60>"
      ]
     },
     "execution_count": 19,
     "metadata": {},
     "output_type": "execute_result"
    },
    {
     "data": {
      "image/png": "[encoded data removed]",
      "text/plain": [
       "<Figure size 432x288 with 1 Axes>"
      ]
     },
     "metadata": {},
     "output_type": "display_data"
    }
   ],
   "source": [
    "mso = grp[grp[\"Channel\"].isin([\"MSO\"])]\n",
    "sns.boxplot(y = 'Conversion_Rate', x = 'Coverage_code', data = mso)"
   ]
  },
  {
   "cell_type": "code",
   "execution_count": 20,
   "metadata": {},
   "outputs": [
    {
     "data": {
      "text/plain": [
       "<matplotlib.axes._subplots.AxesSubplot at 0xbff3748>"
      ]
     },
     "execution_count": 20,
     "metadata": {},
     "output_type": "execute_result"
    },
    {
     "data": {
      "image/png": "[encoded data removed]",
      "text/plain": [
       "<Figure size 432x288 with 1 Axes>"
      ]
     },
     "metadata": {},
     "output_type": "display_data"
    }
   ],
   "source": [
    "sns.boxplot(y = 'Response_time', x = 'Coverage_code', data = mso)"
   ]
  },
  {
   "cell_type": "code",
   "execution_count": 21,
   "metadata": {},
   "outputs": [
    {
     "data": {
      "text/plain": [
       "<matplotlib.axes._subplots.AxesSubplot at 0xc0720b8>"
      ]
     },
     "execution_count": 21,
     "metadata": {},
     "output_type": "execute_result"
    },
    {
     "data": {
      "image/png": "[encoded data removed]",
      "text/plain": [
       "<Figure size 432x288 with 1 Axes>"
      ]
     },
     "metadata": {},
     "output_type": "display_data"
    }
   ],
   "source": [
    "online = grp[grp[\"Channel\"].isin([\"Online\"])]\n",
    "sns.boxplot(y = 'Conversion_Rate', x = 'Coverage_code', data = online)"
   ]
  },
  {
   "cell_type": "code",
   "execution_count": 22,
   "metadata": {},
   "outputs": [
    {
     "data": {
      "text/plain": [
       "<matplotlib.axes._subplots.AxesSubplot at 0xc0d8b00>"
      ]
     },
     "execution_count": 22,
     "metadata": {},
     "output_type": "execute_result"
    },
    {
     "data": {
      "image/png": "[encoded data removed]",
      "text/plain": [
       "<Figure size 432x288 with 1 Axes>"
      ]
     },
     "metadata": {},
     "output_type": "display_data"
    }
   ],
   "source": [
    "sns.boxplot(y = 'Response_time', x = 'Coverage_code', data = online)"
   ]
  },
  {
   "cell_type": "code",
   "execution_count": 25,
   "metadata": {},
   "outputs": [
    {
     "name": "stdout",
     "output_type": "stream",
     "text": [
      "The linear model is: CVR = 0.77569 + -0.034173RT\n"
     ]
    }
   ],
   "source": [
    "# Linear Regression Model\n",
    "X = d2c_mso['Response_time'].values.reshape(-1,1)\n",
    "y = d2c_mso['Conversion_Rate'].values.reshape(-1,1)\n",
    "reg = LinearRegression()\n",
    "reg.fit(X, y)\n",
    "print(\"The linear model is: CVR = {:.5} + {:.5}RT\".format(reg.intercept_[0], reg.coef_[0][0]))"
   ]
  },
  {
   "cell_type": "code",
   "execution_count": 26,
   "metadata": {},
   "outputs": [
    {
     "name": "stdout",
     "output_type": "stream",
     "text": [
      "                            OLS Regression Results                            \n",
      "==============================================================================\n",
      "Dep. Variable:        Conversion_Rate   R-squared:                       0.527\n",
      "Model:                            OLS   Adj. R-squared:                  0.519\n",
      "Method:                 Least Squares   F-statistic:                     62.46\n",
      "Date:                Fri, 19 Jun 2020   Prob (F-statistic):           1.12e-10\n",
      "Time:                        15:57:22   Log-Likelihood:                 125.69\n",
      "No. Observations:                  58   AIC:                            -247.4\n",
      "Df Residuals:                      56   BIC:                            -243.3\n",
      "Df Model:                           1                                         \n",
      "Covariance Type:            nonrobust                                         \n",
      "=================================================================================\n",
      "                    coef    std err          t      P>|t|      [0.025      0.975]\n",
      "---------------------------------------------------------------------------------\n",
      "const             0.7757      0.018     43.228      0.000       0.740       0.812\n",
      "Response_time    -0.0342      0.004     -7.903      0.000      -0.043      -0.026\n",
      "==============================================================================\n",
      "Omnibus:                       23.424   Durbin-Watson:                   0.595\n",
      "Prob(Omnibus):                  0.000   Jarque-Bera (JB):               47.753\n",
      "Skew:                          -1.229   Prob(JB):                     4.27e-11\n",
      "Kurtosis:                       6.704   Cond. No.                         21.2\n",
      "==============================================================================\n",
      "\n",
      "Warnings:\n",
      "[1] Standard Errors assume that the covariance matrix of the errors is correctly specified.\n"
     ]
    }
   ],
   "source": [
    "#Assessing the relevancy of the model\n",
    "X = d2c_mso['Response_time']\n",
    "y = d2c_mso['Conversion_Rate']\n",
    "X2 = sm.add_constant(X)\n",
    "est = sm.OLS(y, X2)\n",
    "est2 = est.fit()\n",
    "print(est2.summary())"
   ]
  },
  {
   "cell_type": "code",
   "execution_count": 27,
   "metadata": {},
   "outputs": [
    {
     "name": "stdout",
     "output_type": "stream",
     "text": [
      "                            OLS Regression Results                            \n",
      "==============================================================================\n",
      "Dep. Variable:        Conversion_Rate   R-squared:                       0.050\n",
      "Model:                            OLS   Adj. R-squared:                  0.033\n",
      "Method:                 Least Squares   F-statistic:                     2.960\n",
      "Date:                Fri, 19 Jun 2020   Prob (F-statistic):             0.0909\n",
      "Time:                        15:58:20   Log-Likelihood:                 120.80\n",
      "No. Observations:                  58   AIC:                            -237.6\n",
      "Df Residuals:                      56   BIC:                            -233.5\n",
      "Df Model:                           1                                         \n",
      "Covariance Type:            nonrobust                                         \n",
      "=================================================================================\n",
      "                    coef    std err          t      P>|t|      [0.025      0.975]\n",
      "---------------------------------------------------------------------------------\n",
      "const             0.8709      0.017     49.875      0.000       0.836       0.906\n",
      "Response_time    -0.0079      0.005     -1.720      0.091      -0.017       0.001\n",
      "==============================================================================\n",
      "Omnibus:                        8.681   Durbin-Watson:                   1.327\n",
      "Prob(Omnibus):                  0.013   Jarque-Bera (JB):               19.446\n",
      "Skew:                          -0.037   Prob(JB):                     5.99e-05\n",
      "Kurtosis:                       5.836   Cond. No.                         17.6\n",
      "==============================================================================\n",
      "\n",
      "Warnings:\n",
      "[1] Standard Errors assume that the covariance matrix of the errors is correctly specified.\n"
     ]
    }
   ],
   "source": [
    "X = hw_mso['Response_time']\n",
    "y = hw_mso['Conversion_Rate']\n",
    "X2 = sm.add_constant(X)\n",
    "est = sm.OLS(y, X2)\n",
    "est2 = est.fit()\n",
    "print(est2.summary())"
   ]
  },
  {
   "cell_type": "code",
   "execution_count": 28,
   "metadata": {},
   "outputs": [
    {
     "name": "stdout",
     "output_type": "stream",
     "text": [
      "                            OLS Regression Results                            \n",
      "==============================================================================\n",
      "Dep. Variable:        Conversion_Rate   R-squared:                       0.494\n",
      "Model:                            OLS   Adj. R-squared:                  0.485\n",
      "Method:                 Least Squares   F-statistic:                     54.58\n",
      "Date:                Fri, 19 Jun 2020   Prob (F-statistic):           7.91e-10\n",
      "Time:                        15:59:35   Log-Likelihood:                 132.14\n",
      "No. Observations:                  58   AIC:                            -260.3\n",
      "Df Residuals:                      56   BIC:                            -256.2\n",
      "Df Model:                           1                                         \n",
      "Covariance Type:            nonrobust                                         \n",
      "=================================================================================\n",
      "                    coef    std err          t      P>|t|      [0.025      0.975]\n",
      "---------------------------------------------------------------------------------\n",
      "const             0.7946      0.017     47.204      0.000       0.761       0.828\n",
      "Response_time    -0.0376      0.005     -7.388      0.000      -0.048      -0.027\n",
      "==============================================================================\n",
      "Omnibus:                       52.031   Durbin-Watson:                   0.672\n",
      "Prob(Omnibus):                  0.000   Jarque-Bera (JB):              252.871\n",
      "Skew:                          -2.479   Prob(JB):                     1.23e-55\n",
      "Kurtosis:                      11.947   Cond. No.                         18.3\n",
      "==============================================================================\n",
      "\n",
      "Warnings:\n",
      "[1] Standard Errors assume that the covariance matrix of the errors is correctly specified.\n"
     ]
    }
   ],
   "source": [
    "X = d2c_online['Response_time']\n",
    "y = d2c_online['Conversion_Rate']\n",
    "X2 = sm.add_constant(X)\n",
    "est = sm.OLS(y, X2)\n",
    "est2 = est.fit()\n",
    "print(est2.summary())"
   ]
  },
  {
   "cell_type": "code",
   "execution_count": 29,
   "metadata": {},
   "outputs": [
    {
     "name": "stdout",
     "output_type": "stream",
     "text": [
      "                            OLS Regression Results                            \n",
      "==============================================================================\n",
      "Dep. Variable:        Conversion_Rate   R-squared:                       0.082\n",
      "Model:                            OLS   Adj. R-squared:                  0.066\n",
      "Method:                 Least Squares   F-statistic:                     5.018\n",
      "Date:                Fri, 19 Jun 2020   Prob (F-statistic):             0.0291\n",
      "Time:                        16:00:02   Log-Likelihood:                 57.300\n",
      "No. Observations:                  58   AIC:                            -110.6\n",
      "Df Residuals:                      56   BIC:                            -106.5\n",
      "Df Model:                           1                                         \n",
      "Covariance Type:            nonrobust                                         \n",
      "=================================================================================\n",
      "                    coef    std err          t      P>|t|      [0.025      0.975]\n",
      "---------------------------------------------------------------------------------\n",
      "const             0.9275      0.038     24.547      0.000       0.852       1.003\n",
      "Response_time    -0.0263      0.012     -2.240      0.029      -0.050      -0.003\n",
      "==============================================================================\n",
      "Omnibus:                        1.703   Durbin-Watson:                   1.864\n",
      "Prob(Omnibus):                  0.427   Jarque-Bera (JB):                1.679\n",
      "Skew:                          -0.346   Prob(JB):                        0.432\n",
      "Kurtosis:                       2.536   Cond. No.                         11.0\n",
      "==============================================================================\n",
      "\n",
      "Warnings:\n",
      "[1] Standard Errors assume that the covariance matrix of the errors is correctly specified.\n"
     ]
    }
   ],
   "source": [
    "X = hw_online['Response_time']\n",
    "y = hw_online['Conversion_Rate']\n",
    "X2 = sm.add_constant(X)\n",
    "est = sm.OLS(y, X2)\n",
    "est2 = est.fit()\n",
    "print(est2.summary())"
   ]
  },
  {
   "cell_type": "code",
   "execution_count": null,
   "metadata": {},
   "outputs": [],
   "source": []
  }
 ],
 "metadata": {
  "kernelspec": {
   "display_name": "Python 3",
   "language": "python",
   "name": "python3"
  },
  "language_info": {
   "codemirror_mode": {
    "name": "ipython",
    "version": 3
   },
   "file_extension": ".py",
   "mimetype": "text/x-python",
   "name": "python",
   "nbconvert_exporter": "python",
   "pygments_lexer": "ipython3",
   "version": "3.7.4"
  }
 },
 "nbformat": 4,
 "nbformat_minor": 2
}

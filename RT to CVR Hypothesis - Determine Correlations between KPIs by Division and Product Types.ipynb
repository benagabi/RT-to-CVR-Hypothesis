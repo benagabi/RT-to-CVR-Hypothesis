{
 "cells": [
  {
   "cell_type": "code",
   "execution_count": 1,
   "metadata": {},
   "outputs": [],
   "source": [
    "#Import Libraries\n",
    "import os\n",
    "import calendar\n",
    "import numpy as np\n",
    "%matplotlib inline\n",
    "import pandas as pd\n",
    "import seaborn as sns\n",
    "import statsmodels.api as sm\n",
    "\n",
    "#Load data\n",
    "df_prd_div = pd.read_excel('gs://mso-hw/RT_CVR_PRD&DIV.xlsx')"
   ]
  },
  {
   "cell_type": "markdown",
   "metadata": {},
   "source": [
    "# Exploratory Data Analysis"
   ]
  },
  {
   "cell_type": "code",
   "execution_count": 2,
   "metadata": {},
   "outputs": [
    {
     "data": {
      "text/html": [
       "<div>\n",
       "<style scoped>\n",
       "    .dataframe tbody tr th:only-of-type {\n",
       "        vertical-align: middle;\n",
       "    }\n",
       "\n",
       "    .dataframe tbody tr th {\n",
       "        vertical-align: top;\n",
       "    }\n",
       "\n",
       "    .dataframe thead th {\n",
       "        text-align: right;\n",
       "    }\n",
       "</style>\n",
       "<table border=\"1\" class=\"dataframe\">\n",
       "  <thead>\n",
       "    <tr style=\"text-align: right;\">\n",
       "      <th></th>\n",
       "      <th>Acctg_dt</th>\n",
       "      <th>Coverage_code</th>\n",
       "      <th>Channel</th>\n",
       "      <th>Division</th>\n",
       "      <th>product</th>\n",
       "      <th>Creates</th>\n",
       "      <th>Cancels</th>\n",
       "      <th>Completes</th>\n",
       "      <th>Response_time</th>\n",
       "      <th>Conversion_Rate</th>\n",
       "    </tr>\n",
       "  </thead>\n",
       "  <tbody>\n",
       "    <tr>\n",
       "      <th>0</th>\n",
       "      <td>2019-02-01</td>\n",
       "      <td>D2C</td>\n",
       "      <td>Online</td>\n",
       "      <td>46</td>\n",
       "      <td>REFRIGERATION</td>\n",
       "      <td>139</td>\n",
       "      <td>50.0</td>\n",
       "      <td>88</td>\n",
       "      <td>4.208633</td>\n",
       "      <td>0.633094</td>\n",
       "    </tr>\n",
       "    <tr>\n",
       "      <th>1</th>\n",
       "      <td>2019-02-01</td>\n",
       "      <td>HW Init</td>\n",
       "      <td>Online</td>\n",
       "      <td>22</td>\n",
       "      <td>DISH</td>\n",
       "      <td>1</td>\n",
       "      <td>NaN</td>\n",
       "      <td>1</td>\n",
       "      <td>1.000000</td>\n",
       "      <td>1.000000</td>\n",
       "    </tr>\n",
       "    <tr>\n",
       "      <th>2</th>\n",
       "      <td>2019-02-01</td>\n",
       "      <td>D2C</td>\n",
       "      <td>Online</td>\n",
       "      <td>9</td>\n",
       "      <td>GDO</td>\n",
       "      <td>5</td>\n",
       "      <td>2.0</td>\n",
       "      <td>3</td>\n",
       "      <td>1.400000</td>\n",
       "      <td>0.600000</td>\n",
       "    </tr>\n",
       "  </tbody>\n",
       "</table>\n",
       "</div>"
      ],
      "text/plain": [
       "    Acctg_dt Coverage_code Channel  Division        product  Creates  Cancels  \\\n",
       "0 2019-02-01           D2C  Online        46  REFRIGERATION      139     50.0   \n",
       "1 2019-02-01       HW Init  Online        22           DISH        1      NaN   \n",
       "2 2019-02-01           D2C  Online         9            GDO        5      2.0   \n",
       "\n",
       "   Completes  Response_time  Conversion_Rate  \n",
       "0         88       4.208633         0.633094  \n",
       "1          1       1.000000         1.000000  \n",
       "2          3       1.400000         0.600000  "
      ]
     },
     "execution_count": 2,
     "metadata": {},
     "output_type": "execute_result"
    }
   ],
   "source": [
    "#View few rows\n",
    "df_prd_div.head(3)"
   ]
  },
  {
   "cell_type": "code",
   "execution_count": 3,
   "metadata": {},
   "outputs": [
    {
     "data": {
      "text/plain": [
       "Acctg_dt           datetime64[ns]\n",
       "Coverage_code              object\n",
       "Channel                    object\n",
       "Division                    int64\n",
       "product                    object\n",
       "Creates                     int64\n",
       "Cancels                   float64\n",
       "Completes                   int64\n",
       "Response_time             float64\n",
       "Conversion_Rate           float64\n",
       "dtype: object"
      ]
     },
     "execution_count": 3,
     "metadata": {},
     "output_type": "execute_result"
    }
   ],
   "source": [
    "#Check data type for each column\n",
    "df_prd_div.dtypes"
   ]
  },
  {
   "cell_type": "code",
   "execution_count": 4,
   "metadata": {},
   "outputs": [
    {
     "data": {
      "text/plain": [
       "Acctg_dt              0\n",
       "Coverage_code         0\n",
       "Channel               0\n",
       "Division              0\n",
       "product               0\n",
       "Creates               0\n",
       "Cancels            3177\n",
       "Completes             0\n",
       "Response_time         0\n",
       "Conversion_Rate       0\n",
       "dtype: int64"
      ]
     },
     "execution_count": 4,
     "metadata": {},
     "output_type": "execute_result"
    }
   ],
   "source": [
    "#Check for missing values\n",
    "df_prd_div.isnull().sum()"
   ]
  },
  {
   "cell_type": "code",
   "execution_count": 5,
   "metadata": {},
   "outputs": [
    {
     "data": {
      "text/plain": [
       "Acctg_dt            0.00\n",
       "Coverage_code       0.00\n",
       "Channel             0.00\n",
       "Division            0.00\n",
       "product             0.00\n",
       "Creates             0.00\n",
       "Cancels            21.12\n",
       "Completes           0.00\n",
       "Response_time       0.00\n",
       "Conversion_Rate     0.00\n",
       "dtype: float64"
      ]
     },
     "execution_count": 5,
     "metadata": {},
     "output_type": "execute_result"
    }
   ],
   "source": [
    "#Calculate percentage missing values in each column\n",
    "round(100*(df_prd_div.isnull().sum()/len(df_prd_div.index)), 2)"
   ]
  },
  {
   "cell_type": "code",
   "execution_count": 6,
   "metadata": {},
   "outputs": [
    {
     "name": "stdout",
     "output_type": "stream",
     "text": [
      "Division  product      \n",
      "6         RECREATION        774\n",
      "9         GDO               747\n",
      "          TOOLS             106\n",
      "10        COOL                1\n",
      "          HVAC              921\n",
      "          OIL-BOILER         99\n",
      "20        COOKING MICRO     134\n",
      "22        COOKING          1209\n",
      "          COOKING MICRO     713\n",
      "          DISH             1191\n",
      "          DISPOSER          567\n",
      "26        DRYER            1278\n",
      "          WASHER           1344\n",
      "32        COOL                1\n",
      "          PORTHEATER          6\n",
      "42        COOL              408\n",
      "          WATERHEAT         772\n",
      "          WATERTREAT        720\n",
      "46        REFRIGERATION    1373\n",
      "          Unknown            55\n",
      "57        AV                  4\n",
      "          TV                 77\n",
      "          TV DIGITAL        419\n",
      "71        GRILLING          450\n",
      "          LAWN & GARDEN     732\n",
      "          TRACTOR           934\n",
      "83        WATERTREAT          5\n",
      "dtype: int64\n"
     ]
    }
   ],
   "source": [
    "#Calculate row counts by Division and Product Types\n",
    "prd_and_div = df_prd_div.pivot_table(index=['Division','product'], aggfunc='size')\n",
    "print(prd_and_div)"
   ]
  },
  {
   "cell_type": "markdown",
   "metadata": {},
   "source": [
    "# Analysis - Statistical Inference"
   ]
  },
  {
   "cell_type": "code",
   "execution_count": 7,
   "metadata": {},
   "outputs": [],
   "source": [
    "#Drop Cancels column\n",
    "df = df_prd_div.copy()\n",
    "df.drop('Cancels', axis=1, inplace=True)\n",
    "\n",
    "#Split mso and online into d2c and hw\n",
    "df = df[df[\"Division\"].isin([22,26,46])] #Filter for three Divisions:- DIV22(Dishwasher), \n",
    "                                         #DIV26(Dryer, Washer), and DIV46(Refrigeration)\n",
    "d2c_mso = (df[df[\"Coverage_code\"].isin([\"D2C\"]) & df[\"Channel\"].isin([\"MSO\"])])\n",
    "hw_mso = (df[df[\"Coverage_code\"].isin([\"HW Init\"]) & df[\"Channel\"].isin([\"MSO\"])])\n",
    "d2c_online = (df[df[\"Coverage_code\"].isin([\"D2C\"]) & df[\"Channel\"].isin([\"Online\"])])\n",
    "hw_online = (df[df[\"Coverage_code\"].isin([\"HW Init\"]) & df[\"Channel\"].isin([\"Online\"])])\n",
    "\n",
    "#Calculate the min, mean and max values for response time (RT)\n",
    "rt_mean_min_max = df.groupby(['Coverage_code', 'Channel', 'Division']).agg({'Response_time': \n",
    "                                                                            ['mean', 'min', 'max']})\n",
    "rt_mean_min_max.columns = ['RT_Mean', 'RT_Min', 'RT_Max']\n",
    "rt_mean_min_max = rt_mean_min_max.reset_index()\n",
    "\n",
    "#Calculate the min, mean and max values for conversion rate (CVR)\n",
    "cvr_mean_min_max = df.groupby(['Coverage_code', 'Channel', 'Division']).agg({'Conversion_Rate': \n",
    "                                                                             ['mean', 'min', 'max']})\n",
    "cvr_mean_min_max.columns = ['CVR_Mean', 'CVR_Min', 'CVR_Max']\n",
    "cvr_mean_min_max = cvr_mean_min_max.reset_index()"
   ]
  },
  {
   "cell_type": "code",
   "execution_count": 8,
   "metadata": {},
   "outputs": [
    {
     "name": "stdout",
     "output_type": "stream",
     "text": [
      "   Coverage_code Channel  Division  RT_Mean  RT_Min  RT_Max\n",
      "0            D2C     MSO        22      4.0     0.0    25.0\n",
      "1            D2C     MSO        26      3.0     1.0     9.0\n",
      "2            D2C     MSO        46      5.0     0.0    19.0\n",
      "3            D2C  Online        22      3.0     0.0    12.0\n",
      "4            D2C  Online        26      3.0     0.0    13.0\n",
      "5            D2C  Online        46      4.0     2.0    13.0\n",
      "6        HW Init     MSO        22      3.0     0.0    17.0\n",
      "7        HW Init     MSO        26      3.0     0.0    31.0\n",
      "8        HW Init     MSO        46      5.0     1.0    24.0\n",
      "9        HW Init  Online        22      3.0     0.0    12.0\n",
      "10       HW Init  Online        26      2.0     0.0    17.0\n",
      "11       HW Init  Online        46      4.0     0.0    21.0 1\n"
     ]
    }
   ],
   "source": [
    "#Print Response Time result \n",
    "print(round(rt_mean_min_max),1)"
   ]
  },
  {
   "cell_type": "code",
   "execution_count": 10,
   "metadata": {},
   "outputs": [
    {
     "name": "stdout",
     "output_type": "stream",
     "text": [
      "   Coverage_code Channel  Division  CVR_Mean   CVR_Min  CVR_Max\n",
      "0            D2C     MSO        22  0.557899  0.045455      1.0\n",
      "1            D2C     MSO        26  0.650636  0.433225      0.9\n",
      "2            D2C     MSO        46  0.671580  0.434579      1.0\n",
      "3            D2C  Online        22  0.705575  0.250000      1.0\n",
      "4            D2C  Online        26  0.697792  0.400000      1.0\n",
      "5            D2C  Online        46  0.638599  0.250000      1.0\n",
      "6        HW Init     MSO        22  0.865862  0.250000      1.0\n",
      "7        HW Init     MSO        26  0.866897  0.250000      1.0\n",
      "8        HW Init     MSO        46  0.831706  0.333333      1.0\n",
      "9        HW Init  Online        22  0.989418  0.500000      1.0\n",
      "10       HW Init  Online        26  0.953235  0.333333      1.0\n",
      "11       HW Init  Online        46  0.924837  0.333333      1.0\n"
     ]
    }
   ],
   "source": [
    "#Print Conversion Rate result\n",
    "print(cvr_mean_min_max)"
   ]
  },
  {
   "cell_type": "markdown",
   "metadata": {},
   "source": [
    "## Correlation Analysis"
   ]
  },
  {
   "cell_type": "code",
   "execution_count": 11,
   "metadata": {},
   "outputs": [],
   "source": [
    "#DIV22 (Dishwasher)\n",
    "#MSO_D2C\n",
    "d2c_mso_div22 = d2c_mso[d2c_mso[\"Division\"].isin([22])]\n",
    "d2c_mso_div22_cor = d2c_mso_div22[['Conversion_Rate', 'Response_time']].corr()\n",
    "\n",
    "#MSO_HW\n",
    "hw_mso_div22 = hw_mso[hw_mso[\"Division\"].isin([22])]\n",
    "hw_mso_div22_cor = hw_mso_div22[['Conversion_Rate', 'Response_time']].corr()\n",
    "\n",
    "#Online_D2C\n",
    "d2c_online_div22 = d2c_online[d2c_online[\"Division\"].isin([22])]\n",
    "d2c_online_div22_cor = d2c_online_div22[['Conversion_Rate', 'Response_time']].corr()\n",
    "\n",
    "#Online_HW\n",
    "hw_online_div22 = hw_online[hw_online[\"Division\"].isin([22])]\n",
    "hw_online_div22_cor = hw_online_div22[['Conversion_Rate', 'Response_time']].corr()\n",
    "\n",
    "#DIV26 (Dryer and Washer)\n",
    "#MSO_D2C \n",
    "d2c_mso_div26 = d2c_mso[d2c_mso[\"Division\"].isin([26])]\n",
    "d2c_mso_div26_cor = d2c_mso_div26[['Conversion_Rate', 'Response_time']].corr()\n",
    "\n",
    "#MSO_HW \n",
    "hw_mso_div26 = hw_mso[hw_mso[\"Division\"].isin([26])]\n",
    "hw_mso_div26_cor = hw_mso_div26[['Conversion_Rate', 'Response_time']].corr()\n",
    "\n",
    "#Online_D2C  \n",
    "d2c_online_div26 = d2c_online[d2c_online[\"Division\"].isin([26])]\n",
    "d2c_online_div26_cor = d2c_online_div26[['Conversion_Rate', 'Response_time']].corr()\n",
    "\n",
    "#Online_HW \n",
    "hw_online_div26 = hw_online[hw_online[\"Division\"].isin([26])]\n",
    "hw_online_div26_cor = hw_online_div26[['Conversion_Rate', 'Response_time']].corr()\n",
    "\n",
    "#DIV46 (Refrigeration)\n",
    "#MSO_D2C \n",
    "d2c_mso_div46 = d2c_mso[d2c_mso[\"Division\"].isin([46])]\n",
    "d2c_mso_div46_cor = d2c_mso_div46[['Conversion_Rate', 'Response_time']].corr()\n",
    "\n",
    "#MSO_HW\n",
    "hw_mso_div46 = hw_mso[hw_mso[\"Division\"].isin([46])]\n",
    "hw_mso_div46_cor = hw_mso_div46[['Conversion_Rate', 'Response_time']].corr()\n",
    "\n",
    "#Online \n",
    "d2c_online_div46 = d2c_online[d2c_online[\"Division\"].isin([46])]\n",
    "d2c_online_div46_cor = d2c_online_div46[['Conversion_Rate', 'Response_time']].corr()\n",
    "\n",
    "hw_online_div46 = hw_online[hw_online[\"Division\"].isin([46])]\n",
    "hw_online_div46_cor = hw_online_div46[['Conversion_Rate', 'Response_time']].corr()"
   ]
  },
  {
   "cell_type": "code",
   "execution_count": 13,
   "metadata": {},
   "outputs": [
    {
     "name": "stdout",
     "output_type": "stream",
     "text": [
      "                 Conversion_Rate  Response_time\n",
      "Conversion_Rate         1.000000      -0.060162\n",
      "Response_time          -0.060162       1.000000\n",
      "                 Conversion_Rate  Response_time\n",
      "Conversion_Rate         1.000000      -0.199078\n",
      "Response_time          -0.199078       1.000000\n"
     ]
    },
    {
     "data": {
      "text/plain": [
       "(None, None)"
      ]
     },
     "execution_count": 13,
     "metadata": {},
     "output_type": "execute_result"
    }
   ],
   "source": [
    "#Show results for MSO Division 22 (Dish, Cooking, Cooking Micro,Disposer)\n",
    "print(d2c_mso_div22_cor), print(hw_mso_div22_cor)"
   ]
  },
  {
   "cell_type": "code",
   "execution_count": 14,
   "metadata": {},
   "outputs": [
    {
     "name": "stdout",
     "output_type": "stream",
     "text": [
      "                 Conversion_Rate  Response_time\n",
      "Conversion_Rate         1.000000      -0.006583\n",
      "Response_time          -0.006583       1.000000\n",
      "                 Conversion_Rate  Response_time\n",
      "Conversion_Rate         1.000000      -0.068612\n",
      "Response_time          -0.068612       1.000000\n"
     ]
    },
    {
     "data": {
      "text/plain": [
       "(None, None)"
      ]
     },
     "execution_count": 14,
     "metadata": {},
     "output_type": "execute_result"
    }
   ],
   "source": [
    "#Show results for Online Division 22 (Dish, Cooking, Cooking Micro,Disposer)\n",
    "print(d2c_online_div22_cor), print(hw_online_div22_cor)"
   ]
  },
  {
   "cell_type": "code",
   "execution_count": 15,
   "metadata": {},
   "outputs": [
    {
     "name": "stdout",
     "output_type": "stream",
     "text": [
      "                 Conversion_Rate  Response_time\n",
      "Conversion_Rate         1.000000      -0.303218\n",
      "Response_time          -0.303218       1.000000\n",
      "                 Conversion_Rate  Response_time\n",
      "Conversion_Rate         1.000000       0.000159\n",
      "Response_time           0.000159       1.000000\n"
     ]
    },
    {
     "data": {
      "text/plain": [
       "(None, None)"
      ]
     },
     "execution_count": 15,
     "metadata": {},
     "output_type": "execute_result"
    }
   ],
   "source": [
    "#Show results for MSO Division 26  (Dryer and Washer)\n",
    "print(d2c_mso_div26_cor), print(hw_mso_div26_cor)"
   ]
  },
  {
   "cell_type": "code",
   "execution_count": 16,
   "metadata": {},
   "outputs": [
    {
     "name": "stdout",
     "output_type": "stream",
     "text": [
      "                 Conversion_Rate  Response_time\n",
      "Conversion_Rate         1.000000      -0.280974\n",
      "Response_time          -0.280974       1.000000\n",
      "                 Conversion_Rate  Response_time\n",
      "Conversion_Rate         1.000000      -0.068124\n",
      "Response_time          -0.068124       1.000000\n"
     ]
    },
    {
     "data": {
      "text/plain": [
       "(None, None)"
      ]
     },
     "execution_count": 16,
     "metadata": {},
     "output_type": "execute_result"
    }
   ],
   "source": [
    "#Show results for Online Division 26  (Dryer and Washer)\n",
    "print(d2c_online_div26_cor), print(hw_online_div26_cor)"
   ]
  },
  {
   "cell_type": "code",
   "execution_count": 17,
   "metadata": {},
   "outputs": [
    {
     "name": "stdout",
     "output_type": "stream",
     "text": [
      "                 Conversion_Rate  Response_time\n",
      "Conversion_Rate         1.000000      -0.410749\n",
      "Response_time          -0.410749       1.000000\n",
      "                 Conversion_Rate  Response_time\n",
      "Conversion_Rate         1.000000      -0.113472\n",
      "Response_time          -0.113472       1.000000\n"
     ]
    },
    {
     "data": {
      "text/plain": [
       "(None, None)"
      ]
     },
     "execution_count": 17,
     "metadata": {},
     "output_type": "execute_result"
    }
   ],
   "source": [
    "#Show results for MSO Division 46 (Refrigeration)\n",
    "print(d2c_mso_div46_cor), print(hw_mso_div46_cor)"
   ]
  },
  {
   "cell_type": "code",
   "execution_count": 19,
   "metadata": {},
   "outputs": [
    {
     "name": "stdout",
     "output_type": "stream",
     "text": [
      "                 Conversion_Rate  Response_time\n",
      "Conversion_Rate         1.000000      -0.475605\n",
      "Response_time          -0.475605       1.000000\n",
      "                 Conversion_Rate  Response_time\n",
      "Conversion_Rate         1.000000      -0.047062\n",
      "Response_time          -0.047062       1.000000\n"
     ]
    },
    {
     "data": {
      "text/plain": [
       "(None, None)"
      ]
     },
     "execution_count": 19,
     "metadata": {},
     "output_type": "execute_result"
    }
   ],
   "source": [
    "#Show results for Online Division 46 (Refrigeration)\n",
    "print(d2c_online_div46_cor), print(hw_online_div46_cor)"
   ]
  },
  {
   "cell_type": "markdown",
   "metadata": {},
   "source": [
    "# Build Model\n",
    "\n",
    "To determine the degree (strength) of relationship between KPIs (RT vs CVR)"
   ]
  },
  {
   "cell_type": "code",
   "execution_count": 22,
   "metadata": {},
   "outputs": [
    {
     "name": "stdout",
     "output_type": "stream",
     "text": [
      "The linear model is: CVR_Div22_MSO_D2C = 0.58439 + -0.0072224RT_Div22_MSO_D2C\n"
     ]
    }
   ],
   "source": [
    "# Linear Regression Model\n",
    "from sklearn.metrics import mean_squared_error\n",
    "from sklearn.preprocessing import StandardScaler\n",
    "from sklearn.linear_model import LinearRegression\n",
    "from sklearn.model_selection import train_test_split\n",
    "from sklearn.metrics import explained_variance_score,r2_score\n",
    "\n",
    "#DIV22 (Dish, Cooking, Cooking Micro,Disposer)\n",
    "X = d2c_mso_div22['Response_time'].values.reshape(-1,1)\n",
    "y = d2c_mso_div22['Conversion_Rate'].values.reshape(-1,1)\n",
    "reg = LinearRegression()\n",
    "reg.fit(X, y)\n",
    "print(\"The linear model is: CVR_Div22_MSO_D2C = {:.5} + {:.5}RT_Div22_MSO_D2C\".format(reg.intercept_[0], \n",
    "                                                                                      reg.coef_[0][0]))"
   ]
  },
  {
   "cell_type": "code",
   "execution_count": 23,
   "metadata": {},
   "outputs": [
    {
     "name": "stdout",
     "output_type": "stream",
     "text": [
      "The linear model is: CVR_Div22_MSO_HW = 0.91776 + -0.017208RT_Div22_MSO_HW\n"
     ]
    }
   ],
   "source": [
    "#DIV22 (Dish, Cooking, Cooking Micro,Disposer)\n",
    "X = hw_mso_div22['Response_time'].values.reshape(-1,1)\n",
    "y = hw_mso_div22['Conversion_Rate'].values.reshape(-1,1)\n",
    "reg = LinearRegression()\n",
    "reg.fit(X, y)\n",
    "print(\"The linear model is: CVR_Div22_MSO_HW = {:.5} + {:.5}RT_Div22_MSO_HW\".format(reg.intercept_[0], \n",
    "                                                                                      reg.coef_[0][0]))"
   ]
  },
  {
   "cell_type": "code",
   "execution_count": 24,
   "metadata": {},
   "outputs": [
    {
     "name": "stdout",
     "output_type": "stream",
     "text": [
      "The linear model is: CVR_Div22_Online_D2C = 0.70758 + -0.00070994RT_Div22_Online_D2C\n"
     ]
    }
   ],
   "source": [
    "#DIV22 (Dish, Cooking, Cooking Micro,Disposer)\n",
    "X = d2c_online_div22['Response_time'].values.reshape(-1,1)\n",
    "y = d2c_online_div22['Conversion_Rate'].values.reshape(-1,1)\n",
    "reg = LinearRegression()\n",
    "reg.fit(X, y)\n",
    "print(\"The linear model is: CVR_Div22_Online_D2C = {:.5} + {:.5}RT_Div22_Online_D2C\".format(reg.intercept_[0], \n",
    "                                                                                            reg.coef_[0][0]))"
   ]
  },
  {
   "cell_type": "code",
   "execution_count": 25,
   "metadata": {},
   "outputs": [
    {
     "name": "stdout",
     "output_type": "stream",
     "text": [
      "The linear model is: CVR_Div22_Online_HW = 0.99439 + -0.0017706RT_Div22_Online_HW\n"
     ]
    }
   ],
   "source": [
    "#DIV22 (Dish, Cooking, Cooking Micro,Disposer)\n",
    "X = hw_online_div22['Response_time'].values.reshape(-1,1)\n",
    "y = hw_online_div22['Conversion_Rate'].values.reshape(-1,1)\n",
    "reg = LinearRegression()\n",
    "reg.fit(X, y)\n",
    "print(\"The linear model is: CVR_Div22_Online_HW = {:.5} + {:.5}RT_Div22_Online_HW\".format(reg.intercept_[0], \n",
    "                                                                                          reg.coef_[0][0]))"
   ]
  },
  {
   "cell_type": "code",
   "execution_count": 26,
   "metadata": {},
   "outputs": [
    {
     "name": "stdout",
     "output_type": "stream",
     "text": [
      "The linear model is: CVR_DIV26__MSO_D2C = 0.71802 + -0.02054RT_DIV26__MSO_D2C\n"
     ]
    }
   ],
   "source": [
    "#DIV26 (Dryer and Washer)\n",
    "X = d2c_mso_div26['Response_time'].values.reshape(-1,1)\n",
    "y = d2c_mso_div26['Conversion_Rate'].values.reshape(-1,1)\n",
    "reg = LinearRegression()\n",
    "reg.fit(X, y)\n",
    "print(\"The linear model is: CVR_DIV26__MSO_D2C = {:.5} + {:.5}RT_DIV26__MSO_D2C\".format(reg.intercept_[0], \n",
    "                                                                                        reg.coef_[0][0]))"
   ]
  },
  {
   "cell_type": "code",
   "execution_count": 27,
   "metadata": {},
   "outputs": [
    {
     "name": "stdout",
     "output_type": "stream",
     "text": [
      "The linear model is: CVR_DIV26_MSO_HW = 0.86686 + 1.1314e-05RT_DIV26_MSO_HW\n"
     ]
    }
   ],
   "source": [
    "#DIV26 (Dryer and Washer)\n",
    "X = hw_mso_div26['Response_time'].values.reshape(-1,1)\n",
    "y = hw_mso_div26['Conversion_Rate'].values.reshape(-1,1)\n",
    "reg = LinearRegression()\n",
    "reg.fit(X, y)\n",
    "print(\"The linear model is: CVR_DIV26_MSO_HW = {:.5} + {:.5}RT_DIV26_MSO_HW\".format(reg.intercept_[0], \n",
    "                                                                                      reg.coef_[0][0]))"
   ]
  },
  {
   "cell_type": "code",
   "execution_count": 28,
   "metadata": {},
   "outputs": [
    {
     "name": "stdout",
     "output_type": "stream",
     "text": [
      "The linear model is: CVR_DIV26_D2C_Online = 0.74748 + -0.019021RT_DIV26_D2C_Online\n"
     ]
    }
   ],
   "source": [
    "#DIV26 (Dryer and Washer)\n",
    "X = d2c_online_div26['Response_time'].values.reshape(-1,1)\n",
    "y = d2c_online_div26['Conversion_Rate'].values.reshape(-1,1)\n",
    "reg = LinearRegression()\n",
    "reg.fit(X, y)\n",
    "print(\"The linear model is: CVR_DIV26_D2C_Online = {:.5} + {:.5}RT_DIV26_D2C_Online\".format(reg.intercept_[0], \n",
    "                                                                                            reg.coef_[0][0]))"
   ]
  },
  {
   "cell_type": "code",
   "execution_count": 29,
   "metadata": {},
   "outputs": [
    {
     "name": "stdout",
     "output_type": "stream",
     "text": [
      "The linear model is: CVR_DIV26_HW_Online = 0.96241 + -0.0037103RT_DIV26_HW_Online\n"
     ]
    }
   ],
   "source": [
    "#DIV26 (Dryer and Washer)\n",
    "X = hw_online_div26['Response_time'].values.reshape(-1,1)\n",
    "y = hw_online_div26['Conversion_Rate'].values.reshape(-1,1)\n",
    "reg = LinearRegression()\n",
    "reg.fit(X, y)\n",
    "print(\"The linear model is: CVR_DIV26_HW_Online = {:.5} + {:.5}RT_DIV26_HW_Online\".format(reg.intercept_[0], \n",
    "                                                                                          reg.coef_[0][0]))"
   ]
  },
  {
   "cell_type": "code",
   "execution_count": 30,
   "metadata": {},
   "outputs": [
    {
     "name": "stdout",
     "output_type": "stream",
     "text": [
      "The linear model is: CVR_DIV46_D2C_MSO = 0.79473 + -0.025026RT_DIV46_D2C_MSO\n"
     ]
    }
   ],
   "source": [
    "#DIV46 (Refrigeration)\n",
    "X = d2c_mso_div46['Response_time'].values.reshape(-1,1)\n",
    "y = d2c_mso_div46['Conversion_Rate'].values.reshape(-1,1)\n",
    "reg = LinearRegression()\n",
    "reg.fit(X, y)\n",
    "print(\"The linear model is: CVR_DIV46_D2C_MSO = {:.5} + {:.5}RT_DIV46_D2C_MSO\".format(reg.intercept_[0], \n",
    "                                                                                      reg.coef_[0][0]))"
   ]
  },
  {
   "cell_type": "code",
   "execution_count": 31,
   "metadata": {},
   "outputs": [
    {
     "name": "stdout",
     "output_type": "stream",
     "text": [
      "The linear model is: CVR_DIV46_HW_MSO = 0.85549 + -0.005046RT_DIV46_HW_MSO\n"
     ]
    }
   ],
   "source": [
    "#DIV46 (Refrigeration)\n",
    "X = hw_mso_div46['Response_time'].values.reshape(-1,1)\n",
    "y = hw_mso_div46['Conversion_Rate'].values.reshape(-1,1)\n",
    "reg = LinearRegression()\n",
    "reg.fit(X, y)\n",
    "print(\"The linear model is: CVR_DIV46_HW_MSO = {:.5} + {:.5}RT_DIV46_HW_MSO\".format(reg.intercept_[0], \n",
    "                                                                                    reg.coef_[0][0]))"
   ]
  },
  {
   "cell_type": "code",
   "execution_count": 32,
   "metadata": {},
   "outputs": [
    {
     "name": "stdout",
     "output_type": "stream",
     "text": [
      "The linear model is: CVR_DIV46_D2C_Online = 0.73168 + -0.023131RT_DIV46_D2C_Online\n"
     ]
    }
   ],
   "source": [
    "#DIV46 (Refrigeration)\n",
    "X = d2c_online_div46['Response_time'].values.reshape(-1,1)\n",
    "y = d2c_online_div46['Conversion_Rate'].values.reshape(-1,1)\n",
    "reg = LinearRegression()\n",
    "reg.fit(X, y)\n",
    "print(\"The linear model is: CVR_DIV46_D2C_Online = {:.5} + {:.5}RT_DIV46_D2C_Online\".format(reg.intercept_[0], \n",
    "                                                                                            reg.coef_[0][0]))"
   ]
  },
  {
   "cell_type": "code",
   "execution_count": 33,
   "metadata": {},
   "outputs": [
    {
     "name": "stdout",
     "output_type": "stream",
     "text": [
      "The linear model is: CVR_DIV46_HW_Online = 0.93376 + -0.0021802RT_DIV46_HW_Online\n"
     ]
    }
   ],
   "source": [
    "#DIV46 (Refrigeration)\n",
    "X = hw_online_div46['Response_time'].values.reshape(-1,1)\n",
    "y = hw_online_div46['Conversion_Rate'].values.reshape(-1,1)\n",
    "reg = LinearRegression()\n",
    "reg.fit(X, y)\n",
    "print(\"The linear model is: CVR_DIV46_HW_Online = {:.5} + {:.5}RT_DIV46_HW_Online\".format(reg.intercept_[0], \n",
    "                                                                                      reg.coef_[0][0]))"
   ]
  },
  {
   "cell_type": "markdown",
   "metadata": {},
   "source": [
    "# Interpretation of Results:\n",
    "\n",
    "The sign of a regression coefficient tells you whether there is a positive or negative correlation between each independent variable and the dependent variable. A negative coefficient suggests that as the independent variable (RT) increases, the dependent variable (CVR) tends to decrease. \n",
    "\n",
    "Overall, Response Time (RT) shows a negative coefficient across all divisions which implies that wnen the response time is low, we get a better conversion rate. The degree of conversion rate depend on the channel, coverage code and division (product types).\n"
   ]
  },
  {
   "cell_type": "code",
   "execution_count": null,
   "metadata": {},
   "outputs": [],
   "source": []
  }
 ],
 "metadata": {
  "kernelspec": {
   "display_name": "Python 3",
   "language": "python",
   "name": "python3"
  },
  "language_info": {
   "codemirror_mode": {
    "name": "ipython",
    "version": 3
   },
   "file_extension": ".py",
   "mimetype": "text/x-python",
   "name": "python",
   "nbconvert_exporter": "python",
   "pygments_lexer": "ipython3",
   "version": "3.7.6"
  }
 },
 "nbformat": 4,
 "nbformat_minor": 4
}
